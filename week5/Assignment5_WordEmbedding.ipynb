{
  "cells": [
    {
      "cell_type": "markdown",
      "metadata": {
        "id": "y44rEdwYInQr"
      },
      "source": [
        "# **Setup**"
      ]
    },
    {
      "cell_type": "code",
      "execution_count": 1,
      "metadata": {
        "colab": {
          "base_uri": "https://localhost:8080/"
        },
        "id": "8Ti5om1FIjrq",
        "outputId": "07f3ad94-ccf3-4ed7-e555-d4ab750cbf2d"
      },
      "outputs": [
        {
          "name": "stdout",
          "output_type": "stream",
          "text": [
            "--2024-07-25 12:01:07--  https://docs.google.com/uc?export=download&id=1nckRRVYRiWG8VWoUY4wwtuQm6DjIbpmo\n",
            "Resolving docs.google.com (docs.google.com)... 2404:6800:4003:c11::65, 2404:6800:4003:c11::8b, 2404:6800:4003:c11::71, ...\n",
            "Connecting to docs.google.com (docs.google.com)|2404:6800:4003:c11::65|:443... connected.\n",
            "HTTP request sent, awaiting response... 303 See Other\n",
            "Location: https://drive.usercontent.google.com/download?id=1nckRRVYRiWG8VWoUY4wwtuQm6DjIbpmo&export=download [following]\n",
            "--2024-07-25 12:01:07--  https://drive.usercontent.google.com/download?id=1nckRRVYRiWG8VWoUY4wwtuQm6DjIbpmo&export=download\n",
            "Resolving drive.usercontent.google.com (drive.usercontent.google.com)... 2404:6800:4003:c1c::84, 142.251.175.132\n",
            "Connecting to drive.usercontent.google.com (drive.usercontent.google.com)|2404:6800:4003:c1c::84|:443... connected.\n",
            "HTTP request sent, awaiting response... 200 OK\n",
            "Length: 60418516 (58M) [application/octet-stream]\n",
            "Saving to: ‘w_review_train.csv’\n",
            "\n",
            "w_review_train.csv  100%[===================>]  57.62M  13.1MB/s    in 4.4s    \n",
            "\n",
            "2024-07-25 12:01:18 (13.2 MB/s) - ‘w_review_train.csv’ saved [60418516/60418516]\n",
            "\n",
            "--2024-07-25 12:01:19--  https://docs.google.com/uc?export=download&id=1DsfYE5uI1ZA_IXDNkezQTv-NQehxgZQy\n",
            "Resolving docs.google.com (docs.google.com)... 2404:6800:4003:c11::8b, 2404:6800:4003:c11::65, 2404:6800:4003:c11::71, ...\n",
            "Connecting to docs.google.com (docs.google.com)|2404:6800:4003:c11::8b|:443... connected.\n",
            "HTTP request sent, awaiting response... 303 See Other\n",
            "Location: https://drive.usercontent.google.com/download?id=1DsfYE5uI1ZA_IXDNkezQTv-NQehxgZQy&export=download [following]\n",
            "--2024-07-25 12:01:19--  https://drive.usercontent.google.com/download?id=1DsfYE5uI1ZA_IXDNkezQTv-NQehxgZQy&export=download\n",
            "Resolving drive.usercontent.google.com (drive.usercontent.google.com)... 2404:6800:4003:c1c::84, 142.251.175.132\n",
            "Connecting to drive.usercontent.google.com (drive.usercontent.google.com)|2404:6800:4003:c1c::84|:443... connected.\n",
            "HTTP request sent, awaiting response... 200 OK\n",
            "Length: 99980 (98K) [application/octet-stream]\n",
            "Saving to: ‘THSarabun.ttf’\n",
            "\n",
            "THSarabun.ttf       100%[===================>]  97.64K   520KB/s    in 0.2s    \n",
            "\n",
            "2024-07-25 12:01:23 (520 KB/s) - ‘THSarabun.ttf’ saved [99980/99980]\n",
            "\n",
            "Collecting gensim\n",
            "  Downloading gensim-4.3.3-cp39-cp39-macosx_11_0_arm64.whl.metadata (8.3 kB)\n",
            "Requirement already satisfied: numpy<2.0,>=1.18.5 in /Users/sirisuk/anaconda3/envs/nlp_py3.9/lib/python3.9/site-packages (from gensim) (1.26.4)\n",
            "Requirement already satisfied: scipy<1.14.0,>=1.7.0 in /Users/sirisuk/anaconda3/envs/nlp_py3.9/lib/python3.9/site-packages (from gensim) (1.13.1)\n",
            "Collecting smart-open>=1.8.1 (from gensim)\n",
            "  Downloading smart_open-7.0.4-py3-none-any.whl.metadata (23 kB)\n",
            "Requirement already satisfied: wrapt in /Users/sirisuk/anaconda3/envs/nlp_py3.9/lib/python3.9/site-packages (from smart-open>=1.8.1->gensim) (1.16.0)\n",
            "Downloading gensim-4.3.3-cp39-cp39-macosx_11_0_arm64.whl (24.0 MB)\n",
            "\u001b[2K   \u001b[90m━━━━━━━━━━━━━━━━━━━━━━━━━━━━━━━━━━━━━━━━\u001b[0m \u001b[32m24.0/24.0 MB\u001b[0m \u001b[31m10.9 MB/s\u001b[0m eta \u001b[36m0:00:00\u001b[0m00:01\u001b[0m00:01\u001b[0m\n",
            "\u001b[?25hDownloading smart_open-7.0.4-py3-none-any.whl (61 kB)\n",
            "\u001b[2K   \u001b[90m━━━━━━━━━━━━━━━━━━━━━━━━━━━━━━━━━━━━━━━━\u001b[0m \u001b[32m61.2/61.2 kB\u001b[0m \u001b[31m5.7 MB/s\u001b[0m eta \u001b[36m0:00:00\u001b[0m\n",
            "\u001b[?25hInstalling collected packages: smart-open, gensim\n",
            "Successfully installed gensim-4.3.3 smart-open-7.0.4\n",
            "Requirement already satisfied: pythainlp in /Users/sirisuk/anaconda3/envs/nlp_py3.9/lib/python3.9/site-packages (5.0.4)\n",
            "Requirement already satisfied: requests>=2.22.0 in /Users/sirisuk/anaconda3/envs/nlp_py3.9/lib/python3.9/site-packages (from pythainlp) (2.32.3)\n",
            "Requirement already satisfied: charset-normalizer<4,>=2 in /Users/sirisuk/anaconda3/envs/nlp_py3.9/lib/python3.9/site-packages (from requests>=2.22.0->pythainlp) (3.3.2)\n",
            "Requirement already satisfied: idna<4,>=2.5 in /Users/sirisuk/anaconda3/envs/nlp_py3.9/lib/python3.9/site-packages (from requests>=2.22.0->pythainlp) (3.7)\n",
            "Requirement already satisfied: urllib3<3,>=1.21.1 in /Users/sirisuk/anaconda3/envs/nlp_py3.9/lib/python3.9/site-packages (from requests>=2.22.0->pythainlp) (2.2.2)\n",
            "Requirement already satisfied: certifi>=2017.4.17 in /Users/sirisuk/anaconda3/envs/nlp_py3.9/lib/python3.9/site-packages (from requests>=2.22.0->pythainlp) (2024.7.4)\n"
          ]
        }
      ],
      "source": [
        "# download data\n",
        "!wget --no-check-certificate 'https://docs.google.com/uc?export=download&id=1nckRRVYRiWG8VWoUY4wwtuQm6DjIbpmo' -O w_review_train.csv\n",
        "\n",
        "# download font for matplot\n",
        "!wget --no-check-certificate 'https://docs.google.com/uc?export=download&id=1DsfYE5uI1ZA_IXDNkezQTv-NQehxgZQy' -O THSarabun.ttf\n",
        "\n",
        "# install library\n",
        "!pip install gensim\n",
        "!pip install pythainlp"
      ]
    },
    {
      "cell_type": "code",
      "execution_count": 2,
      "metadata": {
        "id": "fx1jBmK7Iy0R"
      },
      "outputs": [],
      "source": [
        "from gensim.models import Word2Vec\n",
        "\n",
        "from pythainlp import word_tokenize\n",
        "from pythainlp.util import dict_trie\n",
        "from pythainlp.corpus.common import thai_words\n",
        "from pythainlp.corpus import thai_stopwords\n",
        "\n",
        "import pandas as pd\n",
        "import numpy as np\n",
        "import re\n",
        "\n",
        "from sklearn.decomposition import PCA #reduce dimension for eg in SVD\n",
        "import matplotlib.pyplot as plt\n",
        "from matplotlib.font_manager import FontProperties\n",
        "\n",
        "%matplotlib inline"
      ]
    },
    {
      "cell_type": "markdown",
      "metadata": {
        "id": "dOZ5Zu4MJQT5"
      },
      "source": [
        "# **loading** **data**"
      ]
    },
    {
      "cell_type": "code",
      "execution_count": null,
      "metadata": {
        "colab": {
          "base_uri": "https://localhost:8080/",
          "height": 363
        },
        "id": "j7Hh4LWZJNfG",
        "outputId": "cd5104d0-c43c-4947-e3ba-1cdfb953c262"
      },
      "outputs": [
        {
          "data": {
            "application/vnd.google.colaboratory.intrinsic+json": {
              "summary": "{\n  \"name\": \"train\",\n  \"rows\": 40000,\n  \"fields\": [\n    {\n      \"column\": \"sentence\",\n      \"properties\": {\n        \"dtype\": \"string\",\n        \"num_unique_values\": 39993,\n        \"samples\": [\n          \"\\u0e40\\u0e04\\u0e22\\u0e21\\u0e32\\u0e23\\u0e49\\u0e32\\u0e19\\u0e19\\u0e35\\u0e492\\u0e04\\u0e23\\u0e31\\u0e49\\u0e07\\u0e41\\u0e23\\u0e30 \\u0e23\\u0e49\\u0e32\\u0e19\\u0e2d\\u0e22\\u0e39\\u0e48\\u0e1b\\u0e32\\u0e01\\u0e17\\u0e32\\u0e07\\u0e25\\u0e32\\u0e14\\u0e1e\\u0e23\\u0e49\\u0e32\\u0e27 \\u0e16\\u0e19\\u0e19\\u0e27\\u0e34\\u0e20\\u0e32\\u0e27\\u0e14\\u0e35\\u0e23\\u0e31\\u0e07\\u0e2a\\u0e34\\u0e15 \\u0e15\\u0e34\\u0e14\\u0e43\\u0e08\\u0e23\\u0e2a\\u0e0a\\u0e32\\u0e15\\u0e34\\u0e2d\\u0e32\\u0e2b\\u0e32\\u0e23\\u0e1a\\u0e23\\u0e23\\u0e22\\u0e32\\u0e01\\u0e32\\u0e28\\u0e22\\u0e49\\u0e2d\\u0e19\\u0e22\\u0e38\\u0e04 60s \\u0e23\\u0e49\\u0e32\\u0e19\\u0e08\\u0e30\\u0e40\\u0e15\\u0e47\\u0e21\\u0e44\\u0e1b\\u0e14\\u0e49\\u0e27\\u0e22\\u0e41\\u0e1c\\u0e48\\u0e19\\u0e40\\u0e2a\\u0e35\\u0e22\\u0e07\\u0e41\\u0e1b\\u0e30\\u0e46\\u0e23\\u0e2d\\u0e1a\\u0e23\\u0e49\\u0e32\\u0e19\\u0e41\\u0e25\\u0e30\\u0e40\\u0e04\\u0e23\\u0e37\\u0e48\\u0e2d\\u0e07\\u0e40\\u0e2a\\u0e35\\u0e22\\u0e07 \\u0e02\\u0e2d\\u0e07\\u0e40\\u0e01\\u0e48\\u0e32 \\u0e23\\u0e49\\u0e32\\u0e19\\u0e21\\u0e35\\u0e42\\u0e15\\u0e4a\\u0e30\\u0e17\\u0e35\\u0e48\\u0e0a\\u0e31\\u0e49\\u0e19\\u0e25\\u0e2d\\u0e22\\u0e14\\u0e49\\u0e27\\u0e22 \\u0e04\\u0e19\\u0e41\\u0e19\\u0e48\\u0e19\\u0e23\\u0e49\\u0e32\\u0e19\\u0e15\\u0e25\\u0e2d\\u0e14 \\u0e21\\u0e35\\u0e0a\\u0e32\\u0e27\\u0e15\\u0e48\\u0e32\\u0e07\\u0e0a\\u0e32\\u0e15\\u0e34\\u0e14\\u0e49\\u0e27\\u0e22;4\",\n          \"\\u0e2a\\u0e32\\u0e02\\u0e32\\u0e19\\u0e35\\u0e49\\u0e40\\u0e1b\\u0e47\\u0e19\\u0e41\\u0e1a\\u0e1a\\u0e19\\u0e35\\u0e49\\u0e17\\u0e38\\u0e01\\u0e17\\u0e35\\u0e44\\u0e21\\u0e48\\u0e40\\u0e02\\u0e49\\u0e32\\u0e43\\u0e08\\u0e40\\u0e25\\u0e22\\n\\u0e23\\u0e31\\u0e01\\u0e41\\u0e1a\\u0e23\\u0e19\\u0e14\\u0e4c\\u0e08\\u0e36\\u0e07\\u0e2d\\u0e14\\u0e15\\u0e33\\u0e2b\\u0e19\\u0e34\\u0e44\\u0e21\\u0e48\\u0e44\\u0e14\\u0e49\\n\\n\\u0e21\\u0e32\\u0e01\\u0e34\\u0e19 Zen \\u0e17\\u0e35\\u0e48\\u0e40\\u0e0b\\u0e47\\u0e19\\u0e17\\u0e23\\u0e31\\u0e25\\u0e25\\u0e32\\u0e14\\u0e1e\\u0e23\\u0e49\\u0e32\\u0e27\\u0e17\\u0e35\\u0e44\\u0e23\\u0e23\\u0e39\\u0e49\\u0e2a\\u0e36\\u0e01\\u0e02\\u0e2d\\u0e07\\u0e44\\u0e21\\u0e48\\u0e2a\\u0e14\\n\\u0e01\\u0e34\\u0e19\\u0e17\\u0e35\\u0e48\\u0e1f\\u0e34\\u0e27\\u0e40\\u0e08\\u0e2d\\u0e23\\u0e4c\\u0e23\\u0e31\\u0e07\\u0e2a\\u0e34\\u0e15\\u0e2a\\u0e14\\u0e01\\u0e27\\u0e48\\u0e32\\u0e21\\u0e32\\u0e01\\u0e46\\n\\n\\u0e2a\\u0e31\\u0e48\\u0e07\\u0e44\\u0e1b\\u0e2b\\u0e25\\u0e32\\u0e22\\u0e2d\\u0e22\\u0e48\\u0e32\\u0e07\\u0e04\\u0e48\\u0e30\\n\\u0e42\\u0e0b\\u0e30\\u0e1a\\u0e30\\u0e40\\u0e17\\u0e21\\u0e1b\\u0e38\\u0e23\\u0e30 \\u0e01\\u0e38\\u0e49\\u0e07\\u0e2a\\u0e2d\\u0e07\\u0e15\\u0e31\\u0e27 \\u0e19\\u0e49\\u0e33\\u0e0b\\u0e38\\u0e1b\\u0e23\\u0e49\\u0e2d\\u0e19 \\u0e2d\\u0e2d\\u0e01\\u0e2b\\u0e27\\u0e32\\u0e19 \\u0e01\\u0e34\\u0e19\\u0e44\\u0e14\\u0e49\\n\\u0e2b\\u0e21\\u0e36\\u0e01\\u0e22\\u0e33 \\u0e17\\u0e35\\u0e48\\u0e40\\u0e1b\\u0e47\\u0e19\\u0e40\\u0e04\\u0e23\\u0e37\\u0e48\\u0e2d\\u0e07\\u0e40\\u0e04\\u0e35\\u0e22\\u0e07 \\u0e2b\\u0e21\\u0e36\\u0e01\\u0e01\\u0e23\\u0e38\\u0e1a\\u0e46 \\u0e2d\\u0e2d\\u0e01\\u0e2b\\u0e27\\u0e32\\u0e19\\u0e19\\u0e34\\u0e14\\u0e46 \\u0e23\\u0e2a\\u0e0a\\u0e32\\u0e15\\u0e34\\u0e1e\\u0e2d\\u0e43\\u0e0a\\u0e49\\n\\u0e22\\u0e33\\u0e2a\\u0e32\\u0e2b\\u0e23\\u0e48\\u0e32\\u0e22 \\u0e21\\u0e32\\u0e15\\u0e23\\u0e10\\u0e32\\u0e19\\u0e17\\u0e31\\u0e48\\u0e27\\u0e44\\u0e1b\\n\\u0e41\\u0e0b\\u0e25\\u0e21\\u0e2d\\u0e19\\u0e22\\u0e33\\u0e44\\u0e17\\u0e22 \\u0e17\\u0e35\\u0e48\\u0e19\\u0e35\\u0e48\\u0e43\\u0e2b\\u0e49\\u0e2b\\u0e19\\u0e31\\u0e07\\u0e40\\u0e22\\u0e2d\\u0e30 \\u0e40\\u0e19\\u0e37\\u0e49\\u0e2d\\u0e1b\\u0e25\\u0e32\\u0e2b\\u0e31\\u0e32\\u0e19\\u0e40\\u0e15\\u0e4b\\u0e32\\u0e41\\u0e15\\u0e48\\u0e44\\u0e21\\u0e48\\u0e04\\u0e48\\u0e2d\\u0e22\\u0e2a\\u0e14 \\u0e15\\u0e34\\u0e14\\u0e2a\\u0e48\\u0e27\\u0e19\\u0e2b\\u0e19\\u0e31\\u0e07\\u0e21\\u0e32 \\u0e1b\\u0e23\\u0e34\\u0e21\\u0e32\\u0e13\\u0e1e\\u0e2d\\u0e2a\\u0e21\\u0e04\\u0e27\\u0e23 \\n\\u0e0b\\u0e32\\u0e0b\\u0e34\\u0e21\\u0e34\\u0e44\\u0e14\\u0e49\\u0e1f\\u0e23\\u0e35\\u0e08\\u0e32\\u0e01 gift voucher \\u0e40\\u0e1e\\u0e23\\u0e32\\u0e30\\u0e40\\u0e1b\\u0e47\\u0e19\\u0e2a\\u0e21\\u0e32\\u0e0a\\u0e34\\u0e01 \\u0e1b\\u0e25\\u0e32\\u0e0a\\u0e34\\u0e49\\u0e19\\u0e1a\\u0e32\\u0e07 \\u0e44\\u0e21\\u0e48\\u0e2a\\u0e14 \\u0e22\\u0e34\\u0e48\\u0e07\\u0e1b\\u0e25\\u0e32\\u0e2a\\u0e35\\u0e02\\u0e32\\u0e27\\u0e44\\u0e21\\u0e48\\u0e41\\u0e19\\u0e48\\u0e43\\u0e08\\u0e01\\u0e30\\u0e1e\\u0e07\\u0e2b\\u0e23\\u0e37\\u0e2d\\u0e2d\\u0e30\\u0e44\\u0e23 \\u0e44\\u0e21\\u0e48\\u0e2a\\u0e14\\u0e40\\u0e2d\\u0e32\\u0e21\\u0e32\\u0e01\\u0e46 \\u0e40\\u0e2d\\u0e47\\u0e19\\u0e40\\u0e22\\u0e2d\\u0e30 \\u0e40\\u0e2b\\u0e19\\u0e35\\u0e22\\u0e27\\u0e40\\u0e04\\u0e35\\u0e49\\u0e22\\u0e27\\u0e22\\u0e32\\u0e01 \\n\\u0e0a\\u0e38\\u0e14\\u0e02\\u0e49\\u0e32\\u0e27\\u0e1b\\u0e31\\u0e49\\u0e19 \\u0e44\\u0e21\\u0e48\\u0e2d\\u0e23\\u0e48\\u0e2d\\u0e22\\u0e2d\\u0e48\\u0e30 \\u0e1b\\u0e31\\u0e49\\u0e19\\u0e44\\u0e21\\u0e48\\u0e2d\\u0e23\\u0e48\\u0e2d\\u0e22 \\n\\u0e44\\u0e02\\u0e48\\u0e2b\\u0e27\\u0e32\\u0e19\\u0e2a\\u0e25\\u0e31\\u0e14\\u0e1b\\u0e39\\u0e2d\\u0e31\\u0e14\\u0e01\\u0e47\\u0e44\\u0e21\\u0e48\\u0e2d\\u0e23\\u0e48\\u0e2d\\u0e22 \\u0e44\\u0e02\\u0e48\\u0e2b\\u0e27\\u0e32\\u0e19\\u0e15\\u0e23\\u0e07\\u0e01\\u0e25\\u0e32\\u0e07\\u0e21\\u0e35\\u0e40\\u0e2a\\u0e35\\u0e22\\u0e27\\u0e40\\u0e02\\u0e35\\u0e22\\u0e27\\u0e04\\u0e25\\u0e49\\u0e33\\u0e46\\u0e19\\u0e34\\u0e14\\u0e46 \\u0e40\\u0e22\\u0e47\\u0e19\\u0e0a\\u0e37\\u0e14\\n\\n4\\u0e40\\u0e21\\u0e19\\u0e39\\u0e2b\\u0e25\\u0e31\\u0e07\\u0e44\\u0e21\\u0e48\\u0e42\\u0e2d\\u0e40\\u0e04\\u0e04\\u0e48\\u0e30 \\u0e17\\u0e35\\u0e48\\u0e1f\\u0e34\\u0e27\\u0e2d\\u0e23\\u0e48\\u0e2d\\u0e22\\u0e01\\u0e27\\u0e48\\u0e32\\u0e40\\u0e22\\u0e2d\\u0e30 \\u0e2a\\u0e23\\u0e38\\u0e1b\\u0e27\\u0e48\\u0e32\\u0e1e\\u0e19\\u0e31\\u0e01\\u0e07\\u0e32\\u0e19\\u0e1a\\u0e23\\u0e34\\u0e01\\u0e32\\u0e23\\u0e14\\u0e35 \\u0e2d\\u0e32\\u0e2b\\u0e32\\u0e23\\u0e44\\u0e21\\u0e48\\u0e2a\\u0e14\\u0e40\\u0e17\\u0e48\\u0e32\\u0e17\\u0e35\\u0e48\\u0e04\\u0e27\\u0e23 \\u0e44\\u0e21\\u0e48\\u0e1b\\u0e23\\u0e30\\u0e17\\u0e31\\u0e1a\\u0e43\\u0e08 \\u0e40\\u0e2a\\u0e35\\u0e22\\u0e2b\\u0e32\\u0e22\\u0e44\\u0e1b1,110 \\u0e1a\\u0e32\\u0e17;2\",\n          \"\\u0e23\\u0e49\\u0e32\\u0e19\\u0e19\\u0e34\\u0e27\\u0e40\\u0e04\\u0e25\\u0e35\\u0e22\\u0e23\\u0e4c\\u0e23\\u0e32\\u0e14\\u0e2b\\u0e19\\u0e49\\u0e32\\u0e22\\u0e2d\\u0e14\\u0e1c\\u0e31\\u0e01\\u0e41\\u0e25\\u0e30\\u0e2d\\u0e32\\u0e2b\\u0e32\\u0e23\\u0e15\\u0e32\\u0e21\\u0e2a\\u0e31\\u0e48\\u0e07 \\u0e40\\u0e1b\\u0e47\\u0e19\\u0e2d\\u0e35\\u0e01 1 \\u0e23\\u0e49\\u0e32\\u0e19\\u0e2d\\u0e32\\u0e2b\\u0e32\\u0e23\\u0e17\\u0e35\\u0e48\\u0e40\\u0e2d\\u0e23\\u0e47\\u0e14\\u0e2d\\u0e23\\u0e48\\u0e2d\\u0e22\\u0e21\\u0e32\\u0e01 \\u0e43\\u0e19\\u0e40\\u0e21\\u0e37\\u0e2d\\u0e07\\u0e1a\\u0e49\\u0e32\\u0e19\\u0e09\\u0e32\\u0e07\\u0e17\\u0e08\\u0e31\\u0e07\\u0e2b\\u0e27\\u0e31\\u0e14\\u0e23\\u0e30\\u0e22\\u0e2d\\u0e07 \\u0e23\\u0e49\\u0e32\\u0e19\\u0e19\\u0e35\\u0e49\\u0e15\\u0e31\\u0e49\\u0e07\\u0e2d\\u0e22\\u0e39\\u0e48\\u0e1a\\u0e19\\u0e16\\u0e19\\u0e19\\u0e43\\u0e2b\\u0e0d\\u0e48\\u0e40\\u0e25\\u0e22\\u0e08\\u0e2d\\u0e14\\u0e23\\u0e16\\u0e02\\u0e49\\u0e32\\u0e07\\u0e17\\u0e32\\u0e07 \\u0e2a\\u0e48\\u0e27\\u0e19\\u0e21\\u0e32\\u0e01\\u0e02\\u0e32\\u0e22\\u0e2d\\u0e32\\u0e2b\\u0e32\\u0e23\\u0e15\\u0e32\\u0e21\\u0e2a\\u0e31\\u0e48\\u0e07\\u0e15\\u0e48\\u0e32\\u0e07\\u0e46 \\u0e23\\u0e32\\u0e14\\u0e2b\\u0e19\\u0e49\\u0e32\\u0e2b\\u0e21\\u0e39\\u0e2b\\u0e21\\u0e31\\u0e01 \\u0e23\\u0e32\\u0e14\\u0e2b\\u0e19\\u0e49\\u0e32\\u0e17\\u0e30\\u0e40\\u0e25 \\u0e41\\u0e25\\u0e30\\u0e1e\\u0e27\\u0e01\\u0e1c\\u0e31\\u0e14\\u0e0b\\u0e35\\u0e2d\\u0e34\\u0e49\\u0e27\\u0e15\\u0e48\\u0e32\\u0e07\\u0e46 \\u0e40\\u0e04\\u0e22\\u0e21\\u0e32\\u0e17\\u0e32\\u0e19\\u0e23\\u0e32\\u0e14\\u0e2b\\u0e19\\u0e49\\u0e32\\u0e2b\\u0e21\\u0e39\\u0e2b\\u0e21\\u0e31\\u0e01\\u0e41\\u0e25\\u0e49\\u0e27 1 \\u0e23\\u0e2d\\u0e1a\\u0e2d\\u0e23\\u0e48\\u0e2d\\u0e22\\u0e14\\u0e35 \\u0e04\\u0e23\\u0e32\\u0e27\\u0e19\\u0e35\\u0e49\\u0e40\\u0e25\\u0e22\\u0e25\\u0e2d\\u0e07\\u0e40\\u0e1b\\u0e25\\u0e35\\u0e48\\u0e22\\u0e19\\u0e21\\u0e32\\u0e17\\u0e32\\u0e07\\u0e40\\u0e1b\\u0e47\\u0e19\\u0e23\\u0e32\\u0e14\\u0e2b\\u0e19\\u0e49\\u0e32\\u0e17\\u0e30\\u0e40\\u0e25\\u0e14\\u0e39\\u0e27\\u0e48\\u0e32\\u0e08\\u0e30\\u0e2d\\u0e23\\u0e48\\u0e2d\\u0e22\\u0e2b\\u0e23\\u0e37\\u0e2d\\u0e40\\u0e1b\\u0e25\\u0e48\\u0e32 \\u0e41\\u0e25\\u0e30\\u0e40\\u0e04\\u0e49\\u0e32\\u0e01\\u0e47\\u0e44\\u0e21\\u0e48\\u0e17\\u0e33\\u0e43\\u0e2b\\u0e49\\u0e1c\\u0e34\\u0e14\\u0e2b\\u0e27\\u0e31\\u0e07\\u0e08\\u0e23\\u0e34\\u0e07\\u0e46 \\u0e44\\u0e14\\u0e49\\u0e40\\u0e22\\u0e2d\\u0e30\\u0e14\\u0e49\\u0e27\\u0e22\\u0e41\\u0e25\\u0e49\\u0e27\\u0e01\\u0e47\\u0e2d\\u0e23\\u0e48\\u0e2d\\u0e22\\u0e2d\\u0e22\\u0e48\\u0e32\\u0e07\\u0e17\\u0e35\\u0e48\\u0e04\\u0e32\\u0e14\\u0e2b\\u0e27\\u0e31\\u0e07\\u0e44\\u0e27\\u0e49\\u0e08\\u0e23\\u0e34\\u0e07\\u0e46 \\u0e40\\u0e04\\u0e23\\u0e37\\u0e48\\u0e2d\\u0e07\\u0e16\\u0e25\\u0e14\\u0e40\\u0e0a\\u0e48\\u0e19\\u0e01\\u0e38\\u0e49\\u0e07 \\u0e1b\\u0e25\\u0e32\\u0e2b\\u0e21\\u0e36\\u0e01 \\u0e2a\\u0e14\\u0e41\\u0e25\\u0e30\\u0e44\\u0e21\\u0e48\\u0e40\\u0e2b\\u0e21\\u0e47\\u0e19\\u0e04\\u0e32\\u0e27\\u0e40\\u0e25\\u0e22 \\u0e23\\u0e32\\u0e04\\u0e32\\u0e01\\u0e47\\u0e17\\u0e31\\u0e48\\u0e27\\u0e44\\u0e1b\\u0e44\\u0e21\\u0e48\\u0e41\\u0e1e\\u0e07\\u0e21\\u0e32\\u0e01 \\u0e04\\u0e19\\u0e40\\u0e22\\u0e2d\\u0e30\\u0e21\\u0e32\\u0e01\\u0e42\\u0e14\\u0e22\\u0e40\\u0e09\\u0e1e\\u0e32\\u0e30\\u0e0a\\u0e48\\u0e27\\u0e07\\u0e2b\\u0e31\\u0e27\\u0e04\\u0e48\\u0e33 \\u0e02\\u0e2d\\u0e07\\u0e40\\u0e04\\u0e49\\u0e32\\u0e14\\u0e35\\u0e02\\u0e2d\\u0e07\\u0e40\\u0e04\\u0e49\\u0e32\\u0e2d\\u0e23\\u0e48\\u0e2d\\u0e22\\u0e08\\u0e23\\u0e34\\u0e07\\u0e46;4\"\n        ],\n        \"semantic_type\": \"\",\n        \"description\": \"\"\n      }\n    }\n  ]\n}",
              "type": "dataframe",
              "variable_name": "train"
            },
            "text/html": [
              "\n",
              "  <div id=\"df-b999d5a7-e8db-4c54-9df3-67e8890d463a\" class=\"colab-df-container\">\n",
              "    <div>\n",
              "<style scoped>\n",
              "    .dataframe tbody tr th:only-of-type {\n",
              "        vertical-align: middle;\n",
              "    }\n",
              "\n",
              "    .dataframe tbody tr th {\n",
              "        vertical-align: top;\n",
              "    }\n",
              "\n",
              "    .dataframe thead th {\n",
              "        text-align: right;\n",
              "    }\n",
              "</style>\n",
              "<table border=\"1\" class=\"dataframe\">\n",
              "  <thead>\n",
              "    <tr style=\"text-align: right;\">\n",
              "      <th></th>\n",
              "      <th>sentence</th>\n",
              "    </tr>\n",
              "  </thead>\n",
              "  <tbody>\n",
              "    <tr>\n",
              "      <th>0</th>\n",
              "      <td>ร้านอาหารใหญ่มากกกกกกก \\nเลี้ยวเข้ามาเจอห้องน้...</td>\n",
              "    </tr>\n",
              "    <tr>\n",
              "      <th>1</th>\n",
              "      <td>อาหารที่นี่เป็นอาหารจีนแคะที่หากินยากในบ้านเรา...</td>\n",
              "    </tr>\n",
              "    <tr>\n",
              "      <th>2</th>\n",
              "      <td>ปอเปี๊ยะสด ทุกวันนี้รู้สึกว่าหากินยาก (ร้านที่...</td>\n",
              "    </tr>\n",
              "    <tr>\n",
              "      <th>3</th>\n",
              "      <td>รัานคัพเค้กในเมืองไทยมีไม่มาก หลายๆคนอาจจะสงสั...</td>\n",
              "    </tr>\n",
              "    <tr>\n",
              "      <th>4</th>\n",
              "      <td>อร่อย!!! เดินผ่านDigital gatewayทุกวัน ไม่ยักร...</td>\n",
              "    </tr>\n",
              "    <tr>\n",
              "      <th>5</th>\n",
              "      <td>ร้านข้าวต้มกระดูกหมู ปากซอยพัฒนาการ 57 เป็นอีก...</td>\n",
              "    </tr>\n",
              "    <tr>\n",
              "      <th>6</th>\n",
              "      <td>วันนี้ได้มีโอกาสไปนั่งซดกาแฟที่ร้านวาวี แถวๆอา...</td>\n",
              "    </tr>\n",
              "    <tr>\n",
              "      <th>7</th>\n",
              "      <td>สารภาพว่าไม่เคยคิดจะไปต่อคิวซื้อมากินเองครับ บ...</td>\n",
              "    </tr>\n",
              "    <tr>\n",
              "      <th>8</th>\n",
              "      <td>เมื่อวันก่อนไปเดินเล่น แบบชิวๆๆ ที่สยามสแควร์แ...</td>\n",
              "    </tr>\n",
              "    <tr>\n",
              "      <th>9</th>\n",
              "      <td>วันก่อนไปเดินสยาม หลังจากห่างหายไป ประมาณ 6 เด...</td>\n",
              "    </tr>\n",
              "  </tbody>\n",
              "</table>\n",
              "</div>\n",
              "    <div class=\"colab-df-buttons\">\n",
              "\n",
              "  <div class=\"colab-df-container\">\n",
              "    <button class=\"colab-df-convert\" onclick=\"convertToInteractive('df-b999d5a7-e8db-4c54-9df3-67e8890d463a')\"\n",
              "            title=\"Convert this dataframe to an interactive table.\"\n",
              "            style=\"display:none;\">\n",
              "\n",
              "  <svg xmlns=\"http://www.w3.org/2000/svg\" height=\"24px\" viewBox=\"0 -960 960 960\">\n",
              "    <path d=\"M120-120v-720h720v720H120Zm60-500h600v-160H180v160Zm220 220h160v-160H400v160Zm0 220h160v-160H400v160ZM180-400h160v-160H180v160Zm440 0h160v-160H620v160ZM180-180h160v-160H180v160Zm440 0h160v-160H620v160Z\"/>\n",
              "  </svg>\n",
              "    </button>\n",
              "\n",
              "  <style>\n",
              "    .colab-df-container {\n",
              "      display:flex;\n",
              "      gap: 12px;\n",
              "    }\n",
              "\n",
              "    .colab-df-convert {\n",
              "      background-color: #E8F0FE;\n",
              "      border: none;\n",
              "      border-radius: 50%;\n",
              "      cursor: pointer;\n",
              "      display: none;\n",
              "      fill: #1967D2;\n",
              "      height: 32px;\n",
              "      padding: 0 0 0 0;\n",
              "      width: 32px;\n",
              "    }\n",
              "\n",
              "    .colab-df-convert:hover {\n",
              "      background-color: #E2EBFA;\n",
              "      box-shadow: 0px 1px 2px rgba(60, 64, 67, 0.3), 0px 1px 3px 1px rgba(60, 64, 67, 0.15);\n",
              "      fill: #174EA6;\n",
              "    }\n",
              "\n",
              "    .colab-df-buttons div {\n",
              "      margin-bottom: 4px;\n",
              "    }\n",
              "\n",
              "    [theme=dark] .colab-df-convert {\n",
              "      background-color: #3B4455;\n",
              "      fill: #D2E3FC;\n",
              "    }\n",
              "\n",
              "    [theme=dark] .colab-df-convert:hover {\n",
              "      background-color: #434B5C;\n",
              "      box-shadow: 0px 1px 3px 1px rgba(0, 0, 0, 0.15);\n",
              "      filter: drop-shadow(0px 1px 2px rgba(0, 0, 0, 0.3));\n",
              "      fill: #FFFFFF;\n",
              "    }\n",
              "  </style>\n",
              "\n",
              "    <script>\n",
              "      const buttonEl =\n",
              "        document.querySelector('#df-b999d5a7-e8db-4c54-9df3-67e8890d463a button.colab-df-convert');\n",
              "      buttonEl.style.display =\n",
              "        google.colab.kernel.accessAllowed ? 'block' : 'none';\n",
              "\n",
              "      async function convertToInteractive(key) {\n",
              "        const element = document.querySelector('#df-b999d5a7-e8db-4c54-9df3-67e8890d463a');\n",
              "        const dataTable =\n",
              "          await google.colab.kernel.invokeFunction('convertToInteractive',\n",
              "                                                    [key], {});\n",
              "        if (!dataTable) return;\n",
              "\n",
              "        const docLinkHtml = 'Like what you see? Visit the ' +\n",
              "          '<a target=\"_blank\" href=https://colab.research.google.com/notebooks/data_table.ipynb>data table notebook</a>'\n",
              "          + ' to learn more about interactive tables.';\n",
              "        element.innerHTML = '';\n",
              "        dataTable['output_type'] = 'display_data';\n",
              "        await google.colab.output.renderOutput(dataTable, element);\n",
              "        const docLink = document.createElement('div');\n",
              "        docLink.innerHTML = docLinkHtml;\n",
              "        element.appendChild(docLink);\n",
              "      }\n",
              "    </script>\n",
              "  </div>\n",
              "\n",
              "\n",
              "<div id=\"df-db46d369-0ec6-47a8-bca5-5680ad810233\">\n",
              "  <button class=\"colab-df-quickchart\" onclick=\"quickchart('df-db46d369-0ec6-47a8-bca5-5680ad810233')\"\n",
              "            title=\"Suggest charts\"\n",
              "            style=\"display:none;\">\n",
              "\n",
              "<svg xmlns=\"http://www.w3.org/2000/svg\" height=\"24px\"viewBox=\"0 0 24 24\"\n",
              "     width=\"24px\">\n",
              "    <g>\n",
              "        <path d=\"M19 3H5c-1.1 0-2 .9-2 2v14c0 1.1.9 2 2 2h14c1.1 0 2-.9 2-2V5c0-1.1-.9-2-2-2zM9 17H7v-7h2v7zm4 0h-2V7h2v10zm4 0h-2v-4h2v4z\"/>\n",
              "    </g>\n",
              "</svg>\n",
              "  </button>\n",
              "\n",
              "<style>\n",
              "  .colab-df-quickchart {\n",
              "      --bg-color: #E8F0FE;\n",
              "      --fill-color: #1967D2;\n",
              "      --hover-bg-color: #E2EBFA;\n",
              "      --hover-fill-color: #174EA6;\n",
              "      --disabled-fill-color: #AAA;\n",
              "      --disabled-bg-color: #DDD;\n",
              "  }\n",
              "\n",
              "  [theme=dark] .colab-df-quickchart {\n",
              "      --bg-color: #3B4455;\n",
              "      --fill-color: #D2E3FC;\n",
              "      --hover-bg-color: #434B5C;\n",
              "      --hover-fill-color: #FFFFFF;\n",
              "      --disabled-bg-color: #3B4455;\n",
              "      --disabled-fill-color: #666;\n",
              "  }\n",
              "\n",
              "  .colab-df-quickchart {\n",
              "    background-color: var(--bg-color);\n",
              "    border: none;\n",
              "    border-radius: 50%;\n",
              "    cursor: pointer;\n",
              "    display: none;\n",
              "    fill: var(--fill-color);\n",
              "    height: 32px;\n",
              "    padding: 0;\n",
              "    width: 32px;\n",
              "  }\n",
              "\n",
              "  .colab-df-quickchart:hover {\n",
              "    background-color: var(--hover-bg-color);\n",
              "    box-shadow: 0 1px 2px rgba(60, 64, 67, 0.3), 0 1px 3px 1px rgba(60, 64, 67, 0.15);\n",
              "    fill: var(--button-hover-fill-color);\n",
              "  }\n",
              "\n",
              "  .colab-df-quickchart-complete:disabled,\n",
              "  .colab-df-quickchart-complete:disabled:hover {\n",
              "    background-color: var(--disabled-bg-color);\n",
              "    fill: var(--disabled-fill-color);\n",
              "    box-shadow: none;\n",
              "  }\n",
              "\n",
              "  .colab-df-spinner {\n",
              "    border: 2px solid var(--fill-color);\n",
              "    border-color: transparent;\n",
              "    border-bottom-color: var(--fill-color);\n",
              "    animation:\n",
              "      spin 1s steps(1) infinite;\n",
              "  }\n",
              "\n",
              "  @keyframes spin {\n",
              "    0% {\n",
              "      border-color: transparent;\n",
              "      border-bottom-color: var(--fill-color);\n",
              "      border-left-color: var(--fill-color);\n",
              "    }\n",
              "    20% {\n",
              "      border-color: transparent;\n",
              "      border-left-color: var(--fill-color);\n",
              "      border-top-color: var(--fill-color);\n",
              "    }\n",
              "    30% {\n",
              "      border-color: transparent;\n",
              "      border-left-color: var(--fill-color);\n",
              "      border-top-color: var(--fill-color);\n",
              "      border-right-color: var(--fill-color);\n",
              "    }\n",
              "    40% {\n",
              "      border-color: transparent;\n",
              "      border-right-color: var(--fill-color);\n",
              "      border-top-color: var(--fill-color);\n",
              "    }\n",
              "    60% {\n",
              "      border-color: transparent;\n",
              "      border-right-color: var(--fill-color);\n",
              "    }\n",
              "    80% {\n",
              "      border-color: transparent;\n",
              "      border-right-color: var(--fill-color);\n",
              "      border-bottom-color: var(--fill-color);\n",
              "    }\n",
              "    90% {\n",
              "      border-color: transparent;\n",
              "      border-bottom-color: var(--fill-color);\n",
              "    }\n",
              "  }\n",
              "</style>\n",
              "\n",
              "  <script>\n",
              "    async function quickchart(key) {\n",
              "      const quickchartButtonEl =\n",
              "        document.querySelector('#' + key + ' button');\n",
              "      quickchartButtonEl.disabled = true;  // To prevent multiple clicks.\n",
              "      quickchartButtonEl.classList.add('colab-df-spinner');\n",
              "      try {\n",
              "        const charts = await google.colab.kernel.invokeFunction(\n",
              "            'suggestCharts', [key], {});\n",
              "      } catch (error) {\n",
              "        console.error('Error during call to suggestCharts:', error);\n",
              "      }\n",
              "      quickchartButtonEl.classList.remove('colab-df-spinner');\n",
              "      quickchartButtonEl.classList.add('colab-df-quickchart-complete');\n",
              "    }\n",
              "    (() => {\n",
              "      let quickchartButtonEl =\n",
              "        document.querySelector('#df-db46d369-0ec6-47a8-bca5-5680ad810233 button');\n",
              "      quickchartButtonEl.style.display =\n",
              "        google.colab.kernel.accessAllowed ? 'block' : 'none';\n",
              "    })();\n",
              "  </script>\n",
              "</div>\n",
              "\n",
              "    </div>\n",
              "  </div>\n"
            ],
            "text/plain": [
              "                                            sentence\n",
              "0  ร้านอาหารใหญ่มากกกกกกก \\nเลี้ยวเข้ามาเจอห้องน้...\n",
              "1  อาหารที่นี่เป็นอาหารจีนแคะที่หากินยากในบ้านเรา...\n",
              "2  ปอเปี๊ยะสด ทุกวันนี้รู้สึกว่าหากินยาก (ร้านที่...\n",
              "3  รัานคัพเค้กในเมืองไทยมีไม่มาก หลายๆคนอาจจะสงสั...\n",
              "4  อร่อย!!! เดินผ่านDigital gatewayทุกวัน ไม่ยักร...\n",
              "5  ร้านข้าวต้มกระดูกหมู ปากซอยพัฒนาการ 57 เป็นอีก...\n",
              "6  วันนี้ได้มีโอกาสไปนั่งซดกาแฟที่ร้านวาวี แถวๆอา...\n",
              "7  สารภาพว่าไม่เคยคิดจะไปต่อคิวซื้อมากินเองครับ บ...\n",
              "8  เมื่อวันก่อนไปเดินเล่น แบบชิวๆๆ ที่สยามสแควร์แ...\n",
              "9  วันก่อนไปเดินสยาม หลังจากห่างหายไป ประมาณ 6 เด..."
            ]
          },
          "execution_count": 3,
          "metadata": {},
          "output_type": "execute_result"
        }
      ],
      "source": [
        "train = pd.read_csv(\"w_review_train.csv\",  encoding='utf8', names=[\"sentence\"])\n",
        "train.head(10)"
      ]
    },
    {
      "cell_type": "code",
      "execution_count": null,
      "metadata": {
        "colab": {
          "base_uri": "https://localhost:8080/"
        },
        "id": "PGhbWe_AJX69",
        "outputId": "e006ea39-c369-44ee-c060-00eef95ed4dc"
      },
      "outputs": [
        {
          "data": {
            "text/plain": [
              "(40000, 1)"
            ]
          },
          "execution_count": 4,
          "metadata": {},
          "output_type": "execute_result"
        }
      ],
      "source": [
        "train.shape"
      ]
    },
    {
      "cell_type": "markdown",
      "metadata": {
        "id": "DqSnuUeqJcMn"
      },
      "source": [
        "# **Creating model and training model using gensim**"
      ]
    },
    {
      "cell_type": "code",
      "execution_count": null,
      "metadata": {
        "id": "D6EIAKanJZp9"
      },
      "outputs": [],
      "source": [
        "# add word to dict\n",
        "words = ['บะหมี่แห้ง', 'ข้าวหมูกรอบ', 'ก๋วยเตี๋ยวหมูต้มยำ', 'ปลากระพงทอดน้ำปลา', 'ซูชิ', 'กาแฟ', 'ชานมไข่มุก', 'เค้กช็อกโกแลต', 'เครปเค๊ก', 'ไอศครีม']\n",
        "custom_words_list = set(thai_words())\n",
        "custom_words_list.update(words)\n",
        "trie = dict_trie(dict_source=custom_words_list)"
      ]
    },
    {
      "cell_type": "code",
      "execution_count": null,
      "metadata": {
        "id": "a5Y0QyhwJo8f"
      },
      "outputs": [],
      "source": [
        "STOP_WORD = list(thai_stopwords()) + [\" \", \"\\n\"]\n",
        "\n",
        "FORMAT = r\"[\\u0E00-\\u0E7Fa-zA-Z'0-9]+\""
      ]
    },
    {
      "cell_type": "code",
      "execution_count": null,
      "metadata": {
        "id": "2wrckY4YKFnf"
      },
      "outputs": [],
      "source": [
        "def tokenize(sentence):\n",
        "  return word_tokenize(sentence, engine=\"newmm\", custom_dict=trie)\n",
        "\n",
        "def cleaning_stop_word(tk_list):\n",
        "  return [word for word in tk_list if word not in STOP_WORD]\n",
        "\n",
        "def cleaning_symbols_emoji(tk_list):\n",
        "  return [re.findall(FORMAT, text)[0] for text in tk_list if re.findall(FORMAT, text)]"
      ]
    },
    {
      "cell_type": "markdown",
      "metadata": {
        "id": "weDMUZ_RT91C"
      },
      "source": [
        "**Word2Vec Function:**\n",
        "* **tokenized_list** เป็นข้อมูลที่ใช้ train โมเดล โดยจะอยู่ในลักษณะของ list ของ list ของ tokens (คำในแต่ละรีวิว)\n",
        "\n",
        "* **vector_size** เป็นจำนวนมิติของ embedding layer (ขนาดของ embedded  vector) ที่ต้องการ\n",
        "\n",
        "* **window** คือจำนวนคำใกล้เคียงที่เกิดขึ้นร่วมกันกับคำที่กำลังฝึกฝนอยู่\n",
        "\n",
        "* **min_count** คือ จำนวนขั้นต่ำของคำที่ปรากฎในข้อมูลการ train ทั้งหมด (คำที่ปรากฎน้อยจะไม่สนใจ)\n",
        "\n",
        "* **worker** คือจำนวนของ computer threads ที่จะใช้ในการ train\n",
        "\n",
        "* **sg** คือ ถ้า =0 คือ train ด้วย CBOW, =1 คือ train ด้วย Skip-gram (ปกติ Skip-gram จะใช้เวลา train นานกว่า CBOW)\n",
        "\n",
        "* **epochs** คือ จำนวนรอบที่โมเดลจะ train ข้อมูล"
      ]
    },
    {
      "cell_type": "code",
      "execution_count": null,
      "metadata": {
        "id": "WgeDAEq3LUsY"
      },
      "outputs": [],
      "source": [
        "# model 1: doesn't clean anything\n",
        "\n",
        "#### Your Code ####\n",
        "\n"
      ]
    },
    {
      "cell_type": "code",
      "execution_count": null,
      "metadata": {
        "id": "IMk6vNRCLxZ3"
      },
      "outputs": [],
      "source": [
        "# model 2: only cleaning stopword\n",
        "\n",
        "def tk_with_no_stop_word(sentence):\n",
        "  return cleaning_stop_word( tokenize(sentence) )\n",
        "\n",
        "#### Your Code ####\n"
      ]
    },
    {
      "cell_type": "code",
      "execution_count": null,
      "metadata": {
        "id": "3f8o9dkZMWBz"
      },
      "outputs": [],
      "source": [
        "# model 3: only cleaning symbols and emoji\n",
        "\n",
        "def tk_with_no_symbols(sentence):\n",
        "  return cleaning_symbols_emoji( tokenize(sentence) )\n",
        "\n",
        "#### Your Code ####\n",
        "\n"
      ]
    },
    {
      "cell_type": "code",
      "execution_count": null,
      "metadata": {
        "id": "5cE_K_L5Zg1G"
      },
      "outputs": [],
      "source": [
        "# model 4: cleaning stopword, symbols and emoji and more train wongnai to pretrained model\n",
        "\n",
        "# load pretrained model\n",
        "model_4 = Word2Vec.load('http://www.arts.chula.ac.th/ling/wp-content/uploads/TNCc5model.bin')\n",
        "\n",
        "def big_cleaning(sentence):\n",
        "  return  cleaning_symbols_emoji( cleaning_stop_word( tokenize(sentence) ) )\n",
        "\n",
        "#### Your Code ####\n",
        "\n"
      ]
    },
    {
      "cell_type": "code",
      "execution_count": null,
      "metadata": {
        "colab": {
          "base_uri": "https://localhost:8080/",
          "height": 211
        },
        "id": "0wG_90S6_8Ta",
        "outputId": "2aeb8f16-9ab1-4a55-8444-86d586e39d8e"
      },
      "outputs": [
        {
          "ename": "NameError",
          "evalue": "name 'model_1' is not defined",
          "output_type": "error",
          "traceback": [
            "\u001b[0;31m---------------------------------------------------------------------------\u001b[0m",
            "\u001b[0;31mNameError\u001b[0m                                 Traceback (most recent call last)",
            "\u001b[0;32m<ipython-input-12-e96cfe61ae0b>\u001b[0m in \u001b[0;36m<cell line: 2>\u001b[0;34m()\u001b[0m\n\u001b[1;32m      1\u001b[0m \u001b[0;31m# word similarity\u001b[0m\u001b[0;34m\u001b[0m\u001b[0;34m\u001b[0m\u001b[0m\n\u001b[0;32m----> 2\u001b[0;31m \u001b[0mprint\u001b[0m\u001b[0;34m(\u001b[0m\u001b[0mmodel_1\u001b[0m\u001b[0;34m.\u001b[0m\u001b[0mwv\u001b[0m\u001b[0;34m.\u001b[0m\u001b[0msimilarity\u001b[0m\u001b[0;34m(\u001b[0m\u001b[0;34m'อร่อย'\u001b[0m\u001b[0;34m,\u001b[0m \u001b[0;34m'สุดยอด'\u001b[0m\u001b[0;34m)\u001b[0m\u001b[0;34m)\u001b[0m\u001b[0;34m\u001b[0m\u001b[0;34m\u001b[0m\u001b[0m\n\u001b[0m\u001b[1;32m      3\u001b[0m \u001b[0mprint\u001b[0m\u001b[0;34m(\u001b[0m\u001b[0mmodel_2\u001b[0m\u001b[0;34m.\u001b[0m\u001b[0mwv\u001b[0m\u001b[0;34m.\u001b[0m\u001b[0msimilarity\u001b[0m\u001b[0;34m(\u001b[0m\u001b[0;34m'อร่อย'\u001b[0m\u001b[0;34m,\u001b[0m \u001b[0;34m'สุดยอด'\u001b[0m\u001b[0;34m)\u001b[0m\u001b[0;34m)\u001b[0m\u001b[0;34m\u001b[0m\u001b[0;34m\u001b[0m\u001b[0m\n\u001b[1;32m      4\u001b[0m \u001b[0mprint\u001b[0m\u001b[0;34m(\u001b[0m\u001b[0mmodel_3\u001b[0m\u001b[0;34m.\u001b[0m\u001b[0mwv\u001b[0m\u001b[0;34m.\u001b[0m\u001b[0msimilarity\u001b[0m\u001b[0;34m(\u001b[0m\u001b[0;34m'อร่อย'\u001b[0m\u001b[0;34m,\u001b[0m \u001b[0;34m'สุดยอด'\u001b[0m\u001b[0;34m)\u001b[0m\u001b[0;34m)\u001b[0m\u001b[0;34m\u001b[0m\u001b[0;34m\u001b[0m\u001b[0m\n\u001b[1;32m      5\u001b[0m \u001b[0mprint\u001b[0m\u001b[0;34m(\u001b[0m\u001b[0mmodel_4\u001b[0m\u001b[0;34m.\u001b[0m\u001b[0mwv\u001b[0m\u001b[0;34m.\u001b[0m\u001b[0msimilarity\u001b[0m\u001b[0;34m(\u001b[0m\u001b[0;34m'อร่อย'\u001b[0m\u001b[0;34m,\u001b[0m \u001b[0;34m'สุดยอด'\u001b[0m\u001b[0;34m)\u001b[0m\u001b[0;34m)\u001b[0m\u001b[0;34m\u001b[0m\u001b[0;34m\u001b[0m\u001b[0m\n",
            "\u001b[0;31mNameError\u001b[0m: name 'model_1' is not defined"
          ]
        }
      ],
      "source": [
        "# word similarity\n",
        "print(model_1.wv.similarity('อร่อย', 'สุดยอด'))\n",
        "print(model_2.wv.similarity('อร่อย', 'สุดยอด'))\n",
        "print(model_3.wv.similarity('อร่อย', 'สุดยอด'))\n",
        "print(model_4.wv.similarity('อร่อย', 'สุดยอด'))"
      ]
    },
    {
      "cell_type": "code",
      "execution_count": null,
      "metadata": {
        "id": "mZH_NiC8OAJf"
      },
      "outputs": [],
      "source": [
        "print(\"doesn't clean anything:\" , model_1.wv.most_similar(\"ชานมไข่มุก\", topn=5))\n",
        "print(\"only cleaning stopword:\" , model_2.wv.most_similar(\"ชานมไข่มุก\", topn=5))\n",
        "print(\"only cleaing symbols and emoji:\" , model_3.wv.most_similar(\"ชานมไข่มุก\", topn=5))\n",
        "print(\"cleaning stopword, symbols and emoji:\" , model_4.wv.most_similar(\"ชานมไข่มุก\", topn=5))"
      ]
    },
    {
      "cell_type": "code",
      "execution_count": null,
      "metadata": {
        "id": "NbnkCSKOR6Zi"
      },
      "outputs": [],
      "source": [
        "print(\"doesn't clean anything:\" , model_1.wv.most_similar(\"บะหมี่แห้ง\", topn=5))\n",
        "print(\"only cleaning stopword:\" , model_2.wv.most_similar(\"บะหมี่แห้ง\", topn=5))\n",
        "print(\"only cleaing symbols and emoji:\" , model_3.wv.most_similar(\"บะหมี่แห้ง\", topn=5))\n",
        "print(\"cleaning stopword, symbols and emoji:\" , model_4.wv.most_similar(\"บะหมี่แห้ง\", topn=5))"
      ]
    },
    {
      "cell_type": "code",
      "execution_count": null,
      "metadata": {
        "id": "pNxYKRPpTSY7"
      },
      "outputs": [],
      "source": [
        "print(\"doesn't clean anything:\" , model_1.wv.most_similar('ปลากระพงทอดน้ำปลา', topn=5))\n",
        "print(\"only cleaning stopword:\" , model_2.wv.most_similar('ปลากระพงทอดน้ำปลา', topn=5))\n",
        "print(\"only cleaing symbols and emoji:\" , model_3.wv.most_similar('ปลากระพงทอดน้ำปลา', topn=5))\n",
        "print(\"cleaning stopword, symbols and emoji:\" , model_4.wv.most_similar('ปลากระพงทอดน้ำปลา', topn=5))"
      ]
    },
    {
      "cell_type": "code",
      "execution_count": null,
      "metadata": {
        "id": "oTYxMY50Dkl_"
      },
      "outputs": [],
      "source": [
        "print(\"doesn't clean anything:\" , model_1.wv.most_similar('ซูชิ', topn=5))\n",
        "print(\"only cleaning stopword:\" , model_2.wv.most_similar('ซูชิ', topn=5))\n",
        "print(\"only cleaing symbols and emoji:\" , model_3.wv.most_similar('ซูชิ', topn=5))\n",
        "print(\"cleaning stopword, symbols and emoji:\" , model_4.wv.most_similar('ซูชิ', topn=5))"
      ]
    },
    {
      "cell_type": "markdown",
      "metadata": {
        "id": "9bnUtSudY21Y"
      },
      "source": [
        "# **Visualization**\n"
      ]
    },
    {
      "cell_type": "code",
      "execution_count": null,
      "metadata": {
        "id": "-P87KNvCYsxq"
      },
      "outputs": [],
      "source": [
        "plt.style.use(\"seaborn-notebook\")\n",
        "\n",
        "# setup font for matplotlib\n",
        "thai_sarabun = FontProperties(fname=\"THSarabun.ttf\", size=18)"
      ]
    },
    {
      "cell_type": "code",
      "execution_count": null,
      "metadata": {
        "id": "9equaJSLbxzC"
      },
      "outputs": [],
      "source": [
        "# using PCA\n",
        "\n",
        "def display_plot(words):\n",
        "  models = [model_1, model_2, model_3, model_4]\n",
        "  fig, axes = plt.subplots(2, 2, figsize=(14, 14))\n",
        "\n",
        "  j, k = 0, 0\n",
        "\n",
        "  for modelx in models:\n",
        "      if k == 2:\n",
        "        k = 0\n",
        "        j = 1\n",
        "\n",
        "      word_vectors = np.array( [ modelx.wv[w] for w in words ])\n",
        "\n",
        "      twodim = PCA().fit_transform(word_vectors)[:,:2]\n",
        "\n",
        "      axes[j][k].scatter(twodim[:,0], twodim[:,1], c='salmon')\n",
        "      for word, (x,y) in zip(words, twodim):\n",
        "        axes[j][k].text(x+0.05, y+0.05, word, fontproperties=thai_sarabun)\n",
        "\n",
        "      k += 1\n",
        "\n",
        "  axes[0][0].set_title(\"Model 1: doesn't clean anything\")\n",
        "  axes[0][1].set_title(\"Model 2: only cleaning stopword\")\n",
        "  axes[1][0].set_title(\"Model 3: only cleaing symbols and emoji\")\n",
        "  axes[1][1].set_title(\"Model 4: cleaning stopword, symbols and emoji\")\n"
      ]
    },
    {
      "cell_type": "code",
      "execution_count": null,
      "metadata": {
        "id": "EBGhnxSab8F7"
      },
      "outputs": [],
      "source": [
        "#words = ['บะหมี่แห้ง', 'ข้าวหมูกรอบ', 'ก๋วยเตี๋ยวหมูต้มยำ', 'ปลากระพงทอดน้ำปลา', 'ชานมไข่มุก', 'เค้กช็อกโกแลต', 'เครปเค๊ก', 'ไอศครีม']\n",
        "\n",
        "### Your Code for word list ###\n",
        "\n"
      ]
    },
    {
      "cell_type": "code",
      "execution_count": null,
      "metadata": {
        "id": "ONJPbvhocbkT"
      },
      "outputs": [],
      "source": [
        "display_plot(words)"
      ]
    }
  ],
  "metadata": {
    "accelerator": "GPU",
    "colab": {
      "provenance": []
    },
    "gpuClass": "standard",
    "kernelspec": {
      "display_name": "Python 3",
      "name": "python3"
    },
    "language_info": {
      "codemirror_mode": {
        "name": "ipython",
        "version": 3
      },
      "file_extension": ".py",
      "mimetype": "text/x-python",
      "name": "python",
      "nbconvert_exporter": "python",
      "pygments_lexer": "ipython3",
      "version": "3.9.19"
    }
  },
  "nbformat": 4,
  "nbformat_minor": 0
}
