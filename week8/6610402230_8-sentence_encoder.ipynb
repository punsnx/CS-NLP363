{
  "cells": [
    {
      "cell_type": "markdown",
      "metadata": {},
      "source": [
        "### Assignment 8: Sentence Encoder"
      ]
    },
    {
      "cell_type": "markdown",
      "metadata": {},
      "source": [
        "6610402230  Sirisuk Tharntham"
      ]
    },
    {
      "cell_type": "markdown",
      "metadata": {
        "id": "sDooJRzq4MLA"
      },
      "source": [
        "Step 1 : download pre-trained USE"
      ]
    },
    {
      "cell_type": "code",
      "execution_count": 30,
      "metadata": {},
      "outputs": [],
      "source": [
        "import os, random, numpy as np\n",
        "import tensorflow as tf\n",
        "\n",
        "seed_value = 7777\n",
        "random.seed(seed_value)\n",
        "np.random.seed(seed_value)\n",
        "tf.random.set_seed(seed_value)\n",
        "os.environ['PYTHONHASHSEED'] = str(seed_value)"
      ]
    },
    {
      "cell_type": "code",
      "execution_count": 31,
      "metadata": {
        "colab": {
          "base_uri": "https://localhost:8080/"
        },
        "id": "1EbwPiryyBNk",
        "outputId": "fd26e96e-1a5d-4a3f-d00d-8dc483febc73"
      },
      "outputs": [],
      "source": [
        "# !pip install tensorflow_text\n",
        "\n",
        "import tensorflow_hub as hub\n",
        "from tensorflow_text import SentencepieceTokenizer\n",
        "import tensorflow as tf\n",
        "\n",
        "embed =hub.load(\"https://tfhub.dev/google/universal-sentence-encoder-multilingual-large/3\")"
      ]
    },
    {
      "cell_type": "code",
      "execution_count": 32,
      "metadata": {
        "colab": {
          "base_uri": "https://localhost:8080/"
        },
        "id": "0TD4Y6eEygr8",
        "outputId": "d64abf6d-0595-449d-e386-61903383ecb0"
      },
      "outputs": [
        {
          "data": {
            "text/plain": [
              "<tf.Tensor: shape=(1, 512), dtype=float32, numpy=\n",
              "array([[-1.56073486e-02,  4.83928397e-02,  6.76209480e-02,\n",
              "         3.26975957e-02, -2.33572293e-02, -3.89391854e-02,\n",
              "        -5.13572618e-02,  2.53386963e-02,  3.35361399e-02,\n",
              "         5.70191368e-02, -4.18839529e-02,  6.28810152e-02,\n",
              "         1.22976843e-02,  9.15155187e-02, -6.71719387e-02,\n",
              "        -9.03077126e-02,  2.52133682e-02, -4.67808992e-02,\n",
              "         2.70937681e-02, -5.61775779e-03,  5.44996671e-02,\n",
              "         4.17851465e-04, -8.46899301e-02,  2.13087332e-02,\n",
              "         2.20608115e-02,  8.41895060e-04, -2.65123621e-02,\n",
              "        -6.56712241e-03,  5.01014665e-02,  1.99158043e-02,\n",
              "         7.11926073e-02,  1.41542414e-02, -1.62930763e-03,\n",
              "        -5.25229611e-02, -8.76291376e-03, -6.64196610e-02,\n",
              "         3.42438966e-02,  2.08897162e-02, -2.18446255e-02,\n",
              "        -5.67424931e-02,  6.26238901e-03, -1.49302799e-02,\n",
              "        -4.98546287e-02, -1.86504945e-02,  2.17800699e-02,\n",
              "         1.44530162e-02,  6.02621250e-02,  1.20022744e-02,\n",
              "        -7.35699162e-02,  1.12097235e-02,  5.95968664e-02,\n",
              "         3.10938414e-02,  5.59249856e-02, -3.34068723e-02,\n",
              "         8.28951877e-03, -4.14583348e-02, -7.17962012e-02,\n",
              "        -1.80253368e-02,  1.23871891e-02, -3.56362574e-02,\n",
              "        -3.09912302e-02, -9.48673338e-02, -3.37178633e-02,\n",
              "        -2.62899902e-02,  4.80212718e-02, -1.70929711e-02,\n",
              "         5.20392731e-02, -4.76936512e-02,  1.79572646e-02,\n",
              "         2.30042003e-02,  6.62811324e-02,  2.39605755e-02,\n",
              "        -2.29102653e-03,  7.21774921e-02,  3.82113419e-02,\n",
              "        -3.41024548e-02, -4.14048806e-02, -2.63008419e-02,\n",
              "        -6.53306395e-02, -3.58197540e-02,  9.04487073e-02,\n",
              "        -4.83371653e-02,  3.95383760e-02, -2.41023619e-02,\n",
              "        -5.94628006e-02, -2.18541026e-02, -4.52428423e-02,\n",
              "         3.56302820e-02,  1.57325827e-02, -6.18785620e-02,\n",
              "        -1.02007221e-02,  2.35576089e-02,  2.29509305e-02,\n",
              "        -8.46054032e-03, -2.33057663e-02, -1.21744536e-02,\n",
              "         8.51877481e-02,  3.24064456e-02, -7.72302272e-03,\n",
              "         3.69377132e-03,  2.01237332e-02, -6.82274103e-02,\n",
              "        -1.74671672e-02,  2.06691269e-02, -3.59563418e-02,\n",
              "         3.04030743e-03,  7.50965700e-02, -4.70319204e-02,\n",
              "         2.96924133e-02,  1.92140974e-02,  5.29732890e-02,\n",
              "        -3.80802117e-02, -1.15008345e-02, -3.43136373e-03,\n",
              "         6.21960387e-02, -5.30059971e-02,  3.24081965e-02,\n",
              "        -4.74766921e-03, -6.56055510e-02,  3.31356786e-02,\n",
              "         4.31353375e-02, -1.75938066e-02, -2.15074867e-02,\n",
              "        -4.89126109e-02, -3.19642834e-02,  2.71840915e-02,\n",
              "        -2.34913826e-02, -1.09688835e-02,  6.00171499e-02,\n",
              "        -4.67002764e-02, -1.32819898e-02, -1.02837861e-01,\n",
              "        -4.66588587e-02,  1.28687009e-01, -4.84648794e-02,\n",
              "        -3.36401574e-02, -6.41346574e-02, -8.37107301e-02,\n",
              "        -1.55437207e-02,  4.84229773e-02,  3.40378508e-02,\n",
              "         1.58819798e-02, -9.25776586e-02,  3.88895944e-02,\n",
              "        -6.04856713e-03,  2.31482312e-02, -8.44252259e-02,\n",
              "        -1.83895603e-02,  2.15801280e-02, -3.13773975e-02,\n",
              "        -4.80807899e-03, -5.09873778e-02, -3.77150550e-02,\n",
              "        -6.67775497e-02,  8.52342770e-02, -9.09923110e-03,\n",
              "        -6.01247093e-03, -7.12201372e-02, -3.01055480e-02,\n",
              "        -2.66841818e-02, -1.80872958e-02,  1.24840856e-01,\n",
              "        -4.43762634e-03,  3.27941887e-02,  1.19219581e-02,\n",
              "        -8.59526619e-02,  2.17806008e-02,  1.70272384e-02,\n",
              "        -5.09327389e-02,  4.90674600e-02, -1.08508416e-03,\n",
              "         6.77751526e-02, -4.25041243e-02,  1.96040068e-02,\n",
              "        -2.39241794e-02,  6.04697317e-02,  2.01356951e-02,\n",
              "         7.29323132e-03,  5.36424443e-02,  4.74504530e-02,\n",
              "         9.72160995e-02,  2.05404591e-03, -4.70205359e-02,\n",
              "         3.26726735e-02,  1.86855961e-02, -6.88973293e-02,\n",
              "         4.88675712e-03, -3.31435129e-02,  3.14450823e-02,\n",
              "        -2.23741885e-02, -4.31481972e-02, -7.45048225e-02,\n",
              "         3.71325798e-02, -2.55583096e-02, -3.20002101e-02,\n",
              "        -2.22394019e-02, -8.68504569e-02, -1.55313369e-02,\n",
              "         9.00075212e-02,  4.85415384e-02,  1.12802926e-02,\n",
              "         3.73461321e-02, -2.66336408e-02, -3.40358801e-02,\n",
              "        -2.94676842e-03,  4.10125442e-02,  7.45674595e-02,\n",
              "         2.03790516e-02,  6.59939498e-02, -3.75098214e-02,\n",
              "        -2.82899775e-02, -4.64643165e-02,  5.09943180e-02,\n",
              "        -1.00462027e-02,  3.52756307e-02, -2.37412248e-02,\n",
              "         1.25545124e-03,  1.01051591e-02, -1.87735707e-02,\n",
              "         8.54242593e-03,  7.14630634e-02, -3.01285274e-02,\n",
              "         3.54622751e-02, -5.33448607e-02, -3.08525283e-02,\n",
              "         3.15788649e-02,  1.10083884e-02,  8.92588228e-04,\n",
              "         4.95322160e-02,  1.30918268e-02, -5.06432168e-02,\n",
              "         1.11689372e-03, -4.24813479e-02,  1.18231149e-02,\n",
              "        -4.87504266e-02, -1.65215340e-02,  4.40273546e-02,\n",
              "        -1.35335522e-02, -7.35980496e-02,  8.18770677e-02,\n",
              "         3.81920923e-04, -7.85609335e-02,  1.19357593e-02,\n",
              "        -6.77040662e-04,  2.92858556e-02, -3.29346061e-02,\n",
              "        -2.53307465e-02, -2.73721274e-02, -1.98210571e-02,\n",
              "         1.17027834e-02,  7.28589073e-02,  6.05027527e-02,\n",
              "         3.91863883e-02, -8.40459913e-02, -4.36024889e-02,\n",
              "        -6.40678108e-02, -6.01478294e-02, -3.57596995e-03,\n",
              "        -1.72277316e-02, -2.26508826e-02, -6.52374551e-02,\n",
              "        -4.77073155e-02,  2.20034607e-02,  1.93675049e-02,\n",
              "        -5.07356636e-02, -1.51224900e-02,  9.23676863e-02,\n",
              "        -9.55704041e-03,  1.96182895e-02, -7.60721862e-02,\n",
              "         4.18311954e-02,  5.09045944e-02, -7.08103999e-02,\n",
              "         2.27611195e-02,  1.92462318e-02,  1.60513259e-02,\n",
              "         1.88223571e-02, -5.43209314e-02, -2.77975667e-02,\n",
              "         4.05564271e-02, -4.31681909e-02,  8.24297592e-02,\n",
              "        -1.13431248e-03, -4.90595065e-02, -2.43237130e-02,\n",
              "         1.46130798e-02, -1.36295091e-02,  2.05058279e-03,\n",
              "         1.29619660e-02,  4.29013446e-02, -2.60562859e-02,\n",
              "         1.79484487e-02, -4.55155484e-02, -4.92831692e-02,\n",
              "         2.75711007e-02,  1.11133963e-01,  5.22423349e-02,\n",
              "         5.96068576e-02, -6.06720848e-03,  3.07321902e-02,\n",
              "        -1.75957363e-02, -1.97016634e-02,  8.52636877e-04,\n",
              "         1.82346292e-02, -2.62569040e-02, -9.32246149e-02,\n",
              "         2.58592386e-02,  1.84159037e-02,  2.55289078e-02,\n",
              "         3.83208990e-02, -5.03969751e-03, -4.23957855e-02,\n",
              "        -6.38012737e-02,  1.60047375e-02,  4.43140864e-02,\n",
              "         6.01504296e-02, -2.14391781e-04,  1.31208310e-02,\n",
              "         6.16798624e-02,  1.87322553e-02,  2.55640186e-02,\n",
              "         3.01744286e-02, -6.56594336e-02,  5.07363802e-05,\n",
              "         7.68469721e-02, -5.16789071e-02, -3.04207522e-02,\n",
              "        -1.63787883e-02, -6.28107712e-02, -3.35947983e-02,\n",
              "         5.07551208e-02, -6.23448417e-02, -4.92067263e-02,\n",
              "        -5.12141138e-02, -1.12187341e-02,  4.08810340e-02,\n",
              "         5.11891209e-02, -1.03967115e-01,  3.47809494e-02,\n",
              "         3.47823724e-02, -2.46658307e-02, -4.45365608e-02,\n",
              "         1.42307598e-02,  1.85176376e-02, -8.58596154e-03,\n",
              "         2.99362428e-02,  6.20853305e-02,  1.31473877e-02,\n",
              "        -9.28015390e-04,  4.48926352e-02, -6.82720123e-03,\n",
              "         4.19437103e-02, -7.64290467e-02, -6.36259392e-02,\n",
              "        -4.16571274e-03,  2.58143600e-02, -2.63348948e-02,\n",
              "        -5.85193709e-02,  6.37466460e-02,  1.18163684e-02,\n",
              "        -3.99666727e-02, -6.73790500e-02, -4.52493355e-02,\n",
              "        -5.90941012e-02, -2.74002901e-03, -2.90844832e-02,\n",
              "         4.29139696e-02, -4.65482548e-02, -3.66371349e-02,\n",
              "         4.24832047e-04,  5.80051504e-02, -4.83932234e-02,\n",
              "        -6.32360354e-02, -2.63261814e-02, -7.96184391e-02,\n",
              "        -6.20640479e-02,  6.11867420e-02,  6.25146879e-03,\n",
              "        -2.74493806e-02, -5.90178967e-02, -9.63966623e-02,\n",
              "        -5.38046136e-02, -1.25406124e-03, -4.09769081e-02,\n",
              "        -1.36189107e-02, -4.16058302e-02, -8.38626474e-02,\n",
              "        -5.71362525e-02,  1.00657843e-01,  4.39049378e-02,\n",
              "         4.62825187e-02,  2.89196167e-02, -1.70967262e-03,\n",
              "         7.43923336e-02,  4.06011194e-02,  2.76966803e-02,\n",
              "        -8.04560557e-02,  1.35957729e-03, -3.77888307e-02,\n",
              "         5.90486825e-02,  8.45899656e-02,  9.81580466e-03,\n",
              "        -2.94877030e-02,  1.35035766e-02, -4.57005203e-02,\n",
              "         1.64781678e-02, -8.27420577e-02,  9.72921029e-03,\n",
              "         8.87244567e-03,  6.40954375e-02, -7.87390023e-02,\n",
              "         3.24380142e-03, -3.09735294e-02, -2.42507812e-02,\n",
              "        -2.40001865e-02, -2.85596885e-02,  1.81780045e-03,\n",
              "        -4.42470238e-02, -3.66246823e-04, -6.49467576e-03,\n",
              "        -1.85684301e-02, -2.04815138e-02,  1.93439424e-02,\n",
              "        -7.65325502e-02,  2.72769155e-03, -1.65688079e-02,\n",
              "        -2.06209975e-03,  6.51995838e-03, -3.98412906e-02,\n",
              "        -2.25956868e-02, -4.89776731e-02, -5.19757047e-02,\n",
              "         6.82250261e-02, -6.44856272e-03, -3.91609082e-03,\n",
              "        -3.26353721e-02,  2.52652392e-02,  4.90297750e-03,\n",
              "         9.96366516e-03, -6.19823299e-02, -4.31599244e-02,\n",
              "         7.56168216e-02, -6.87932130e-03,  1.35464212e-02,\n",
              "        -1.26874624e-02, -4.82478738e-02, -3.21602374e-02,\n",
              "         1.55823594e-02,  2.69771349e-02, -6.76989183e-02,\n",
              "        -3.89888026e-02, -9.00788531e-02,  4.12747674e-02,\n",
              "         6.97800964e-02,  3.65871228e-02, -3.77712958e-02,\n",
              "         6.47722930e-02, -1.05222249e-02, -3.26569080e-02,\n",
              "        -1.97886974e-02, -9.70111135e-03,  3.06407679e-02,\n",
              "         8.20643902e-02, -2.73395646e-02, -4.69324887e-02,\n",
              "        -1.30045945e-02,  1.24776345e-02,  2.00901809e-03,\n",
              "         3.43133658e-02,  3.18115987e-02, -2.06208788e-02,\n",
              "         5.97023889e-02, -1.92364920e-02, -3.16231102e-02,\n",
              "         5.08853905e-02,  2.34867297e-02,  4.01973426e-02,\n",
              "        -1.78275444e-02, -8.56671389e-03, -3.51501219e-02,\n",
              "        -1.96686364e-04, -1.40205855e-02,  3.51651758e-02,\n",
              "         1.71829965e-02,  1.27336898e-04,  1.33255096e-02,\n",
              "         8.71005505e-02, -1.54692484e-02, -1.71287842e-02,\n",
              "        -1.50612127e-02, -5.15735038e-02,  2.19804440e-02,\n",
              "         2.93619838e-03, -2.44744271e-02, -7.59664923e-02,\n",
              "         2.63015386e-02,  3.25774625e-02, -1.32181607e-02,\n",
              "        -3.10581718e-02, -2.85465512e-02,  5.50406389e-02,\n",
              "        -1.09205926e-02,  2.68730484e-02,  1.30346734e-02,\n",
              "        -6.77761212e-02, -2.44952030e-02,  3.43345478e-02,\n",
              "        -2.57286131e-02, -1.33125767e-01, -5.84257729e-02,\n",
              "        -2.41087861e-02,  3.02079469e-02]], dtype=float32)>"
            ]
          },
          "execution_count": 32,
          "metadata": {},
          "output_type": "execute_result"
        }
      ],
      "source": [
        "sentences = ['ข้าวขาหมูร้านนี้อร่อยมาก']\n",
        "embed(sentences)"
      ]
    },
    {
      "cell_type": "markdown",
      "metadata": {
        "id": "ELyZRmTs4O63"
      },
      "source": [
        "Step 2 : read file / data"
      ]
    },
    {
      "cell_type": "code",
      "execution_count": 33,
      "metadata": {
        "colab": {
          "base_uri": "https://localhost:8080/"
        },
        "id": "lfQ67dib05Ve",
        "outputId": "593e9c85-61be-4b97-a91e-001a2c827d99"
      },
      "outputs": [
        {
          "name": "stdout",
          "output_type": "stream",
          "text": [
            "--2024-08-28 19:00:28--  https://docs.google.com/uc?export=download&id=1K0VgdwYagNidu5k_y5pnSrGrGIOBPsyS\n",
            "Resolving docs.google.com (docs.google.com)... 2404:6800:4001:80b::200e, 172.217.26.78\n",
            "Connecting to docs.google.com (docs.google.com)|2404:6800:4001:80b::200e|:443... connected.\n",
            "HTTP request sent, awaiting response... 303 See Other\n",
            "Location: https://drive.usercontent.google.com/download?id=1K0VgdwYagNidu5k_y5pnSrGrGIOBPsyS&export=download [following]\n",
            "--2024-08-28 19:00:28--  https://drive.usercontent.google.com/download?id=1K0VgdwYagNidu5k_y5pnSrGrGIOBPsyS&export=download\n",
            "Resolving drive.usercontent.google.com (drive.usercontent.google.com)... 2404:6800:4001:80a::2001, 216.58.200.1\n",
            "Connecting to drive.usercontent.google.com (drive.usercontent.google.com)|2404:6800:4001:80a::2001|:443... connected.\n",
            "HTTP request sent, awaiting response... 200 OK\n",
            "Length: 348315 (340K) [application/octet-stream]\n",
            "Saving to: ‘Fastfood_Opinion.csv’\n",
            "\n",
            "Fastfood_Opinion.cs 100%[===================>] 340.15K  1.33MB/s    in 0.2s    \n",
            "\n",
            "2024-08-28 19:00:31 (1.33 MB/s) - ‘Fastfood_Opinion.csv’ saved [348315/348315]\n",
            "\n"
          ]
        }
      ],
      "source": [
        "!wget --no-check-certificate 'https://docs.google.com/uc?export=download&id=1K0VgdwYagNidu5k_y5pnSrGrGIOBPsyS' -O Fastfood_Opinion.csv"
      ]
    },
    {
      "cell_type": "code",
      "execution_count": 34,
      "metadata": {
        "colab": {
          "base_uri": "https://localhost:8080/"
        },
        "id": "9jOGuzfV09Bq",
        "outputId": "18a0295e-503a-4c2c-b510-ebf369b92476"
      },
      "outputs": [
        {
          "name": "stdout",
          "output_type": "stream",
          "text": [
            "<class 'pandas.core.frame.DataFrame'>\n",
            "RangeIndex: 642 entries, 0 to 641\n",
            "Data columns (total 2 columns):\n",
            " #   Column   Non-Null Count  Dtype \n",
            "---  ------   --------------  ----- \n",
            " 0   class    642 non-null    int64 \n",
            " 1   message  642 non-null    object\n",
            "dtypes: int64(1), object(1)\n",
            "memory usage: 10.2+ KB\n"
          ]
        }
      ],
      "source": [
        "# Step 1: Load and preprocess the data\n",
        "import pandas as pd\n",
        "data = pd.read_csv(\"Fastfood_Opinion.csv\",  encoding='utf8')\n",
        "data.info()\n",
        "\n",
        "X = data['message'].astype(str)\n",
        "y = data['class']"
      ]
    },
    {
      "cell_type": "code",
      "execution_count": 83,
      "metadata": {},
      "outputs": [
        {
          "data": {
            "text/plain": [
              "0      0\n",
              "1      0\n",
              "2      0\n",
              "3      0\n",
              "4      0\n",
              "      ..\n",
              "637    1\n",
              "638    1\n",
              "639    1\n",
              "640    1\n",
              "641    1\n",
              "Name: class, Length: 642, dtype: int64"
            ]
          },
          "execution_count": 83,
          "metadata": {},
          "output_type": "execute_result"
        }
      ],
      "source": [
        "y"
      ]
    },
    {
      "cell_type": "markdown",
      "metadata": {
        "id": "jeERbt0v0q8T"
      },
      "source": [
        "Step 3 : Encode / Embed"
      ]
    },
    {
      "cell_type": "code",
      "execution_count": 35,
      "metadata": {
        "id": "B3cAnbAf0rkR"
      },
      "outputs": [],
      "source": [
        "emb_X = embed(X).numpy()\n",
        "df_emb_X = pd.DataFrame(emb_X, index = X)"
      ]
    },
    {
      "cell_type": "code",
      "execution_count": 36,
      "metadata": {
        "id": "jV0AIsNP1Vpm"
      },
      "outputs": [],
      "source": [
        "category = ['พนักงานบริการดี ใส่ใจลูกค้า', 'อาหารอร่อย ร้อน สดใหม่', 'ราคาคุ้มค่า', 'โปรโมชันดี', 'พนักงานบริการแย่ ไม่สนใจลูกค้า พูดจาไม่ดี', 'อาหารไม่อร่อย ไม่ร้อน ไม่สด เก่า', 'ราคาแพง ไม่คุ้มค่ากับเงินที่จ่าย']\n",
        "\n",
        "df_emb_category = pd.DataFrame(embed(category).numpy(), index = category)"
      ]
    },
    {
      "cell_type": "code",
      "execution_count": 37,
      "metadata": {
        "id": "n0ueQa3819wX"
      },
      "outputs": [],
      "source": [
        "argmax_category = df_emb_X.dot(df_emb_category.T).idxmax('columns').values\n",
        "df_result = pd.DataFrame({'original_text' : df_emb_X.index, 'category' : argmax_category})"
      ]
    },
    {
      "cell_type": "code",
      "execution_count": 38,
      "metadata": {
        "colab": {
          "base_uri": "https://localhost:8080/",
          "height": 718
        },
        "id": "8iQcqCsE2F8v",
        "outputId": "472ee809-925f-4073-c1f2-6bd85b72db0f"
      },
      "outputs": [
        {
          "data": {
            "text/html": [
              "<div>\n",
              "<style scoped>\n",
              "    .dataframe tbody tr th:only-of-type {\n",
              "        vertical-align: middle;\n",
              "    }\n",
              "\n",
              "    .dataframe tbody tr th {\n",
              "        vertical-align: top;\n",
              "    }\n",
              "\n",
              "    .dataframe thead th {\n",
              "        text-align: right;\n",
              "    }\n",
              "</style>\n",
              "<table border=\"1\" class=\"dataframe\">\n",
              "  <thead>\n",
              "    <tr style=\"text-align: right;\">\n",
              "      <th></th>\n",
              "      <th>original_text</th>\n",
              "      <th>category</th>\n",
              "    </tr>\n",
              "  </thead>\n",
              "  <tbody>\n",
              "    <tr>\n",
              "      <th>97</th>\n",
              "      <td>กินประจำเลยค่ะเนื้ออร่อย ฟุดๆ</td>\n",
              "      <td>อาหารไม่อร่อย ไม่ร้อน ไม่สด เก่า</td>\n",
              "    </tr>\n",
              "    <tr>\n",
              "      <th>590</th>\n",
              "      <td>เป็นพิซซ่าที่อร่อยมากที่สุดกินมาหลายสิบปีละ</td>\n",
              "      <td>อาหารไม่อร่อย ไม่ร้อน ไม่สด เก่า</td>\n",
              "    </tr>\n",
              "    <tr>\n",
              "      <th>138</th>\n",
              "      <td>พนักงานน่ารักมากเลยค่ะ เราซื้อเสร็จเดินออกจากร...</td>\n",
              "      <td>พนักงานบริการดี ใส่ใจลูกค้า</td>\n",
              "    </tr>\n",
              "    <tr>\n",
              "      <th>108</th>\n",
              "      <td>ชอบค่ะ กลางคืนโอเคเลยนะ คนไม่เยอะ พนักงานบริการดี</td>\n",
              "      <td>พนักงานบริการแย่ ไม่สนใจลูกค้า พูดจาไม่ดี</td>\n",
              "    </tr>\n",
              "    <tr>\n",
              "      <th>587</th>\n",
              "      <td>พิซซ่าอร่อยทุกชิ้น แป้งบางกำลังดี น้ำจิ้มข้าวม...</td>\n",
              "      <td>พนักงานบริการดี ใส่ใจลูกค้า</td>\n",
              "    </tr>\n",
              "    <tr>\n",
              "      <th>126</th>\n",
              "      <td>น่าทานอร่อยดีครับ</td>\n",
              "      <td>อาหารอร่อย ร้อน สดใหม่</td>\n",
              "    </tr>\n",
              "    <tr>\n",
              "      <th>174</th>\n",
              "      <td>อร่อยมากก</td>\n",
              "      <td>อาหารอร่อย ร้อน สดใหม่</td>\n",
              "    </tr>\n",
              "    <tr>\n",
              "      <th>13</th>\n",
              "      <td>คืนวันที่ 26 มค. 60 ไปใช้บริการ Burger King สา...</td>\n",
              "      <td>พนักงานบริการแย่ ไม่สนใจลูกค้า พูดจาไม่ดี</td>\n",
              "    </tr>\n",
              "    <tr>\n",
              "      <th>42</th>\n",
              "      <td>มีเส้นอย่างอื่นที่ไม่ใช่เส้นผมอยู่ในห่อfish n ...</td>\n",
              "      <td>อาหารไม่อร่อย ไม่ร้อน ไม่สด เก่า</td>\n",
              "    </tr>\n",
              "    <tr>\n",
              "      <th>347</th>\n",
              "      <td>เคยเจอเหมือนกันพนักงานเหวี่ยงใส่ ที่สาขาเชลทรั...</td>\n",
              "      <td>พนักงานบริการดี ใส่ใจลูกค้า</td>\n",
              "    </tr>\n",
              "  </tbody>\n",
              "</table>\n",
              "</div>"
            ],
            "text/plain": [
              "                                         original_text  \\\n",
              "97                       กินประจำเลยค่ะเนื้ออร่อย ฟุดๆ   \n",
              "590        เป็นพิซซ่าที่อร่อยมากที่สุดกินมาหลายสิบปีละ   \n",
              "138  พนักงานน่ารักมากเลยค่ะ เราซื้อเสร็จเดินออกจากร...   \n",
              "108  ชอบค่ะ กลางคืนโอเคเลยนะ คนไม่เยอะ พนักงานบริการดี   \n",
              "587  พิซซ่าอร่อยทุกชิ้น แป้งบางกำลังดี น้ำจิ้มข้าวม...   \n",
              "126                                  น่าทานอร่อยดีครับ   \n",
              "174                                          อร่อยมากก   \n",
              "13   คืนวันที่ 26 มค. 60 ไปใช้บริการ Burger King สา...   \n",
              "42   มีเส้นอย่างอื่นที่ไม่ใช่เส้นผมอยู่ในห่อfish n ...   \n",
              "347  เคยเจอเหมือนกันพนักงานเหวี่ยงใส่ ที่สาขาเชลทรั...   \n",
              "\n",
              "                                      category  \n",
              "97            อาหารไม่อร่อย ไม่ร้อน ไม่สด เก่า  \n",
              "590           อาหารไม่อร่อย ไม่ร้อน ไม่สด เก่า  \n",
              "138                พนักงานบริการดี ใส่ใจลูกค้า  \n",
              "108  พนักงานบริการแย่ ไม่สนใจลูกค้า พูดจาไม่ดี  \n",
              "587                พนักงานบริการดี ใส่ใจลูกค้า  \n",
              "126                     อาหารอร่อย ร้อน สดใหม่  \n",
              "174                     อาหารอร่อย ร้อน สดใหม่  \n",
              "13   พนักงานบริการแย่ ไม่สนใจลูกค้า พูดจาไม่ดี  \n",
              "42            อาหารไม่อร่อย ไม่ร้อน ไม่สด เก่า  \n",
              "347                พนักงานบริการดี ใส่ใจลูกค้า  "
            ]
          },
          "execution_count": 38,
          "metadata": {},
          "output_type": "execute_result"
        }
      ],
      "source": [
        "df_result.sample(10)"
      ]
    },
    {
      "cell_type": "markdown",
      "metadata": {},
      "source": [
        "Split Data"
      ]
    },
    {
      "cell_type": "code",
      "execution_count": 39,
      "metadata": {},
      "outputs": [
        {
          "data": {
            "text/plain": [
              "(7, 512)"
            ]
          },
          "execution_count": 39,
          "metadata": {},
          "output_type": "execute_result"
        }
      ],
      "source": [
        "df_emb_category.shape"
      ]
    },
    {
      "cell_type": "code",
      "execution_count": 57,
      "metadata": {},
      "outputs": [],
      "source": [
        "embed_Y = df_result[\"category\"].astype(str)"
      ]
    },
    {
      "cell_type": "code",
      "execution_count": 58,
      "metadata": {},
      "outputs": [],
      "source": [
        "embed_Y = embed(embed_Y).numpy()"
      ]
    },
    {
      "cell_type": "code",
      "execution_count": 60,
      "metadata": {},
      "outputs": [
        {
          "data": {
            "text/plain": [
              "((642, 512), (642, 512))"
            ]
          },
          "execution_count": 60,
          "metadata": {},
          "output_type": "execute_result"
        }
      ],
      "source": [
        "emb_X.shape,embed_Y.shape"
      ]
    },
    {
      "cell_type": "code",
      "execution_count": 84,
      "metadata": {},
      "outputs": [],
      "source": [
        "from sklearn.model_selection import train_test_split\n",
        "X_train, X_test, y_train, y_test = train_test_split(emb_X, y, test_size=0.30, random_state=seed_value)"
      ]
    },
    {
      "cell_type": "code",
      "execution_count": 85,
      "metadata": {},
      "outputs": [
        {
          "data": {
            "text/plain": [
              "512"
            ]
          },
          "execution_count": 85,
          "metadata": {},
          "output_type": "execute_result"
        }
      ],
      "source": [
        "X_train.shape[1]"
      ]
    },
    {
      "cell_type": "code",
      "execution_count": 86,
      "metadata": {},
      "outputs": [
        {
          "data": {
            "text/plain": [
              "607    1\n",
              "201    0\n",
              "362    1\n",
              "328    0\n",
              "269    0\n",
              "      ..\n",
              "395    1\n",
              "437    1\n",
              "344    0\n",
              "16     0\n",
              "198    0\n",
              "Name: class, Length: 449, dtype: int64"
            ]
          },
          "execution_count": 86,
          "metadata": {},
          "output_type": "execute_result"
        }
      ],
      "source": [
        "y_train"
      ]
    },
    {
      "cell_type": "code",
      "execution_count": 87,
      "metadata": {},
      "outputs": [
        {
          "name": "stderr",
          "output_type": "stream",
          "text": [
            "/Users/sirisuk/anaconda3/envs/nlp_py3.9/lib/python3.9/site-packages/keras/src/layers/core/dense.py:87: UserWarning: Do not pass an `input_shape`/`input_dim` argument to a layer. When using Sequential models, prefer using an `Input(shape)` object as the first layer in the model instead.\n",
            "  super().__init__(activity_regularizer=activity_regularizer, **kwargs)\n"
          ]
        },
        {
          "data": {
            "text/html": [
              "<pre style=\"white-space:pre;overflow-x:auto;line-height:normal;font-family:Menlo,'DejaVu Sans Mono',consolas,'Courier New',monospace\"><span style=\"font-weight: bold\">Model: \"sequential_8\"</span>\n",
              "</pre>\n"
            ],
            "text/plain": [
              "\u001b[1mModel: \"sequential_8\"\u001b[0m\n"
            ]
          },
          "metadata": {},
          "output_type": "display_data"
        },
        {
          "data": {
            "text/html": [
              "<pre style=\"white-space:pre;overflow-x:auto;line-height:normal;font-family:Menlo,'DejaVu Sans Mono',consolas,'Courier New',monospace\">┏━━━━━━━━━━━━━━━━━━━━━━━━━━━━━━━━━┳━━━━━━━━━━━━━━━━━━━━━━━━┳━━━━━━━━━━━━━━━┓\n",
              "┃<span style=\"font-weight: bold\"> Layer (type)                    </span>┃<span style=\"font-weight: bold\"> Output Shape           </span>┃<span style=\"font-weight: bold\">       Param # </span>┃\n",
              "┡━━━━━━━━━━━━━━━━━━━━━━━━━━━━━━━━━╇━━━━━━━━━━━━━━━━━━━━━━━━╇━━━━━━━━━━━━━━━┩\n",
              "│ dense_24 (<span style=\"color: #0087ff; text-decoration-color: #0087ff\">Dense</span>)                │ (<span style=\"color: #00d7ff; text-decoration-color: #00d7ff\">None</span>, <span style=\"color: #00af00; text-decoration-color: #00af00\">32</span>)             │        <span style=\"color: #00af00; text-decoration-color: #00af00\">16,416</span> │\n",
              "├─────────────────────────────────┼────────────────────────┼───────────────┤\n",
              "│ dense_25 (<span style=\"color: #0087ff; text-decoration-color: #0087ff\">Dense</span>)                │ (<span style=\"color: #00d7ff; text-decoration-color: #00d7ff\">None</span>, <span style=\"color: #00af00; text-decoration-color: #00af00\">16</span>)             │           <span style=\"color: #00af00; text-decoration-color: #00af00\">528</span> │\n",
              "├─────────────────────────────────┼────────────────────────┼───────────────┤\n",
              "│ dense_26 (<span style=\"color: #0087ff; text-decoration-color: #0087ff\">Dense</span>)                │ (<span style=\"color: #00d7ff; text-decoration-color: #00d7ff\">None</span>, <span style=\"color: #00af00; text-decoration-color: #00af00\">1</span>)              │            <span style=\"color: #00af00; text-decoration-color: #00af00\">17</span> │\n",
              "└─────────────────────────────────┴────────────────────────┴───────────────┘\n",
              "</pre>\n"
            ],
            "text/plain": [
              "┏━━━━━━━━━━━━━━━━━━━━━━━━━━━━━━━━━┳━━━━━━━━━━━━━━━━━━━━━━━━┳━━━━━━━━━━━━━━━┓\n",
              "┃\u001b[1m \u001b[0m\u001b[1mLayer (type)                   \u001b[0m\u001b[1m \u001b[0m┃\u001b[1m \u001b[0m\u001b[1mOutput Shape          \u001b[0m\u001b[1m \u001b[0m┃\u001b[1m \u001b[0m\u001b[1m      Param #\u001b[0m\u001b[1m \u001b[0m┃\n",
              "┡━━━━━━━━━━━━━━━━━━━━━━━━━━━━━━━━━╇━━━━━━━━━━━━━━━━━━━━━━━━╇━━━━━━━━━━━━━━━┩\n",
              "│ dense_24 (\u001b[38;5;33mDense\u001b[0m)                │ (\u001b[38;5;45mNone\u001b[0m, \u001b[38;5;34m32\u001b[0m)             │        \u001b[38;5;34m16,416\u001b[0m │\n",
              "├─────────────────────────────────┼────────────────────────┼───────────────┤\n",
              "│ dense_25 (\u001b[38;5;33mDense\u001b[0m)                │ (\u001b[38;5;45mNone\u001b[0m, \u001b[38;5;34m16\u001b[0m)             │           \u001b[38;5;34m528\u001b[0m │\n",
              "├─────────────────────────────────┼────────────────────────┼───────────────┤\n",
              "│ dense_26 (\u001b[38;5;33mDense\u001b[0m)                │ (\u001b[38;5;45mNone\u001b[0m, \u001b[38;5;34m1\u001b[0m)              │            \u001b[38;5;34m17\u001b[0m │\n",
              "└─────────────────────────────────┴────────────────────────┴───────────────┘\n"
            ]
          },
          "metadata": {},
          "output_type": "display_data"
        },
        {
          "data": {
            "text/html": [
              "<pre style=\"white-space:pre;overflow-x:auto;line-height:normal;font-family:Menlo,'DejaVu Sans Mono',consolas,'Courier New',monospace\"><span style=\"font-weight: bold\"> Total params: </span><span style=\"color: #00af00; text-decoration-color: #00af00\">16,961</span> (66.25 KB)\n",
              "</pre>\n"
            ],
            "text/plain": [
              "\u001b[1m Total params: \u001b[0m\u001b[38;5;34m16,961\u001b[0m (66.25 KB)\n"
            ]
          },
          "metadata": {},
          "output_type": "display_data"
        },
        {
          "data": {
            "text/html": [
              "<pre style=\"white-space:pre;overflow-x:auto;line-height:normal;font-family:Menlo,'DejaVu Sans Mono',consolas,'Courier New',monospace\"><span style=\"font-weight: bold\"> Trainable params: </span><span style=\"color: #00af00; text-decoration-color: #00af00\">16,961</span> (66.25 KB)\n",
              "</pre>\n"
            ],
            "text/plain": [
              "\u001b[1m Trainable params: \u001b[0m\u001b[38;5;34m16,961\u001b[0m (66.25 KB)\n"
            ]
          },
          "metadata": {},
          "output_type": "display_data"
        },
        {
          "data": {
            "text/html": [
              "<pre style=\"white-space:pre;overflow-x:auto;line-height:normal;font-family:Menlo,'DejaVu Sans Mono',consolas,'Courier New',monospace\"><span style=\"font-weight: bold\"> Non-trainable params: </span><span style=\"color: #00af00; text-decoration-color: #00af00\">0</span> (0.00 B)\n",
              "</pre>\n"
            ],
            "text/plain": [
              "\u001b[1m Non-trainable params: \u001b[0m\u001b[38;5;34m0\u001b[0m (0.00 B)\n"
            ]
          },
          "metadata": {},
          "output_type": "display_data"
        }
      ],
      "source": [
        "from keras import Sequential\n",
        "from keras.layers import Embedding, Flatten, Dense, LSTM, Bidirectional\n",
        "from sklearn.metrics import confusion_matrix\n",
        "\n",
        "model1 = Sequential()\n",
        "model1.add(Dense(32, input_shape=(X_train.shape[1],),activation=\"relu\"))\n",
        "model1.add(Dense(16, activation=\"relu\"))\n",
        "model1.add(Dense(1, activation=\"sigmoid\"))\n",
        "\n",
        "model1.compile(optimizer='adam', loss=\"binary_crossentropy\", metrics=['accuracy'])\n",
        "\n",
        "model1.summary()"
      ]
    },
    {
      "cell_type": "code",
      "execution_count": 88,
      "metadata": {},
      "outputs": [
        {
          "name": "stdout",
          "output_type": "stream",
          "text": [
            "Epoch 1/10\n"
          ]
        },
        {
          "name": "stdout",
          "output_type": "stream",
          "text": [
            "\u001b[1m15/15\u001b[0m \u001b[32m━━━━━━━━━━━━━━━━━━━━\u001b[0m\u001b[37m\u001b[0m \u001b[1m0s\u001b[0m 616us/step - accuracy: 0.6204 - loss: 0.6840\n",
            "Epoch 2/10\n",
            "\u001b[1m15/15\u001b[0m \u001b[32m━━━━━━━━━━━━━━━━━━━━\u001b[0m\u001b[37m\u001b[0m \u001b[1m0s\u001b[0m 605us/step - accuracy: 0.8646 - loss: 0.6270\n",
            "Epoch 3/10\n",
            "\u001b[1m15/15\u001b[0m \u001b[32m━━━━━━━━━━━━━━━━━━━━\u001b[0m\u001b[37m\u001b[0m \u001b[1m0s\u001b[0m 528us/step - accuracy: 0.8978 - loss: 0.5482\n",
            "Epoch 4/10\n",
            "\u001b[1m15/15\u001b[0m \u001b[32m━━━━━━━━━━━━━━━━━━━━\u001b[0m\u001b[37m\u001b[0m \u001b[1m0s\u001b[0m 618us/step - accuracy: 0.9196 - loss: 0.4573\n",
            "Epoch 5/10\n",
            "\u001b[1m15/15\u001b[0m \u001b[32m━━━━━━━━━━━━━━━━━━━━\u001b[0m\u001b[37m\u001b[0m \u001b[1m0s\u001b[0m 637us/step - accuracy: 0.9249 - loss: 0.3695\n",
            "Epoch 6/10\n",
            "\u001b[1m15/15\u001b[0m \u001b[32m━━━━━━━━━━━━━━━━━━━━\u001b[0m\u001b[37m\u001b[0m \u001b[1m0s\u001b[0m 680us/step - accuracy: 0.9387 - loss: 0.2962\n",
            "Epoch 7/10\n",
            "\u001b[1m15/15\u001b[0m \u001b[32m━━━━━━━━━━━━━━━━━━━━\u001b[0m\u001b[37m\u001b[0m \u001b[1m0s\u001b[0m 597us/step - accuracy: 0.9426 - loss: 0.2435\n",
            "Epoch 8/10\n",
            "\u001b[1m15/15\u001b[0m \u001b[32m━━━━━━━━━━━━━━━━━━━━\u001b[0m\u001b[37m\u001b[0m \u001b[1m0s\u001b[0m 564us/step - accuracy: 0.9506 - loss: 0.2070\n",
            "Epoch 9/10\n",
            "\u001b[1m15/15\u001b[0m \u001b[32m━━━━━━━━━━━━━━━━━━━━\u001b[0m\u001b[37m\u001b[0m \u001b[1m0s\u001b[0m 535us/step - accuracy: 0.9558 - loss: 0.1806\n",
            "Epoch 10/10\n",
            "\u001b[1m15/15\u001b[0m \u001b[32m━━━━━━━━━━━━━━━━━━━━\u001b[0m\u001b[37m\u001b[0m \u001b[1m0s\u001b[0m 537us/step - accuracy: 0.9598 - loss: 0.1606\n"
          ]
        },
        {
          "data": {
            "text/plain": [
              "<keras.src.callbacks.history.History at 0x39ecaf220>"
            ]
          },
          "execution_count": 88,
          "metadata": {},
          "output_type": "execute_result"
        }
      ],
      "source": [
        "model1.fit(X_train,y_train,epochs=10,batch_size=32)"
      ]
    },
    {
      "cell_type": "code",
      "execution_count": 89,
      "metadata": {},
      "outputs": [
        {
          "name": "stdout",
          "output_type": "stream",
          "text": [
            "\u001b[1m7/7\u001b[0m \u001b[32m━━━━━━━━━━━━━━━━━━━━\u001b[0m\u001b[37m\u001b[0m \u001b[1m0s\u001b[0m 737us/step - accuracy: 0.9081 - loss: 0.2182\n",
            "Test Accuracy: 0.9067\n"
          ]
        }
      ],
      "source": [
        "# Evaluate the model\n",
        "loss, accuracy = model1.evaluate(X_test, y_test)\n",
        "print(f'Test Accuracy: {accuracy:.4f}')"
      ]
    },
    {
      "cell_type": "code",
      "execution_count": null,
      "metadata": {},
      "outputs": [],
      "source": []
    }
  ],
  "metadata": {
    "colab": {
      "provenance": []
    },
    "kernelspec": {
      "display_name": "Python 3",
      "name": "python3"
    },
    "language_info": {
      "codemirror_mode": {
        "name": "ipython",
        "version": 3
      },
      "file_extension": ".py",
      "mimetype": "text/x-python",
      "name": "python",
      "nbconvert_exporter": "python",
      "pygments_lexer": "ipython3",
      "version": "3.9.19"
    }
  },
  "nbformat": 4,
  "nbformat_minor": 0
}
