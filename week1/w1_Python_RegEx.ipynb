{
  "nbformat": 4,
  "nbformat_minor": 0,
  "metadata": {
    "colab": {
      "provenance": []
    },
    "kernelspec": {
      "display_name": "Python 3",
      "name": "python3"
    },
    "language_info": {
      "name": "python"
    }
  },
  "cells": [
    {
      "cell_type": "markdown",
      "source": [
        "**Student ID:**\n",
        "\n",
        "**Student Name:**"
      ],
      "metadata": {
        "id": "c5hatsj3bd6y"
      }
    },
    {
      "cell_type": "markdown",
      "metadata": {
        "id": "4HMeD6H3-bZT"
      },
      "source": [
        "**Python RegEx**\n",
        "\n",
        "[https://www.w3schools.com/python/python_regex.asp ]\n"
      ]
    },
    {
      "cell_type": "markdown",
      "metadata": {
        "id": "fqXaGH5zLhEd"
      },
      "source": [
        "# RegEx Module\n"
      ]
    },
    {
      "cell_type": "code",
      "metadata": {
        "id": "Vwbp0VM4G-WO"
      },
      "source": [
        "import re"
      ],
      "execution_count": null,
      "outputs": []
    },
    {
      "cell_type": "markdown",
      "source": [
        "# RegEx Functions\n",
        "\n",
        "**Search** returns a match object if there is a match *anywhere* in the string\n",
        "\n",
        "**findall**\tReturns a list containing all matches\n",
        "\n",
        "**split**\tReturns a list where the string has been split at each match\n",
        "\n",
        "**sub**\tReplaces one or many matches with a string# New Section"
      ],
      "metadata": {
        "id": "OTTtX1Nse2_2"
      }
    },
    {
      "cell_type": "code",
      "source": [
        "# Letters inside square brackets []\n",
        "txt = \"Woodchuck woodchuck\"\n",
        "x = re.search(\"[wW]oodchuck\", txt)\n",
        "print(1,x)\n",
        "\n",
        "x = re.findall(\"[wW]oodchuck\", txt)\n",
        "print(2,x)\n",
        "\n",
        "x = re.split(\"c\", txt)\n",
        "print(3,x)\n",
        "\n",
        "x = re.sub(\"W\",\"w\", txt)\n",
        "print(4,x)"
      ],
      "metadata": {
        "colab": {
          "base_uri": "https://localhost:8080/"
        },
        "id": "vBsZjTon2u6Z",
        "outputId": "5acaa79d-bd34-410a-d99c-b7b269f788d0"
      },
      "execution_count": null,
      "outputs": [
        {
          "output_type": "stream",
          "name": "stdout",
          "text": [
            "1 <re.Match object; span=(0, 9), match='Woodchuck'>\n",
            "2 ['Woodchuck', 'woodchuck']\n",
            "3 ['Wood', 'hu', 'k wood', 'hu', 'k']\n",
            "4 woodchuck woodchuck\n"
          ]
        }
      ]
    },
    {
      "cell_type": "code",
      "source": [
        "# Range [a-z]\n",
        "txt = \"Woodchuck\"\n",
        "x = re.search(\"[a-z]\", txt)\n",
        "print(x)"
      ],
      "metadata": {
        "colab": {
          "base_uri": "https://localhost:8080/"
        },
        "id": "GQ6TxZJK3st8",
        "outputId": "1edbee61-07fa-4979-8947-77641ca78e67"
      },
      "execution_count": null,
      "outputs": [
        {
          "output_type": "stream",
          "name": "stdout",
          "text": [
            "<re.Match object; span=(1, 2), match='o'>\n"
          ]
        }
      ]
    },
    {
      "cell_type": "code",
      "source": [
        "# Negations [^]\n",
        "txt = \"BKKThailand\"\n",
        "x = re.search(\"[^A-Z]\", txt)\n",
        "print(x)\n",
        "\n",
        "txt = \"e^o^e\"\n",
        "x = re.search(\"[^e^]\", txt)\n",
        "print(x)"
      ],
      "metadata": {
        "colab": {
          "base_uri": "https://localhost:8080/"
        },
        "id": "MSLNpXsq4k_0",
        "outputId": "c67b36fc-24c4-41bf-8548-cb25c7f3641f"
      },
      "execution_count": null,
      "outputs": [
        {
          "output_type": "stream",
          "name": "stdout",
          "text": [
            "<re.Match object; span=(4, 5), match='h'>\n",
            "<re.Match object; span=(2, 3), match='o'>\n"
          ]
        }
      ]
    },
    {
      "cell_type": "code",
      "source": [
        "# The pipe | for disjunction\n",
        "txt = \"The woodchuck or groundhog is the largest member of the squirrel family\"\n",
        "x = re.findall(\"[Ww]oodchuck|[Gg]roundhog\", txt)\n",
        "print(x)"
      ],
      "metadata": {
        "colab": {
          "base_uri": "https://localhost:8080/"
        },
        "id": "Nw_euMgk5Y1G",
        "outputId": "3727a233-c129-4694-f7b7-f9ac57277656"
      },
      "execution_count": null,
      "outputs": [
        {
          "output_type": "stream",
          "name": "stdout",
          "text": [
            "['woodchuck', 'groundhog']\n"
          ]
        }
      ]
    },
    {
      "cell_type": "code",
      "source": [
        "# ? * + .\n",
        "txt = \"color and colour mean the same thing.\"\n",
        "x = re.findall(\"colou?r\", txt)\n",
        "print(x)\n",
        "\n",
        "txt = \"oh! ooh!  oooh! ooooh!\"\n",
        "x = re.findall(\"oo*h\", txt)\n",
        "print(x)\n",
        "\n",
        "txt = \"oh! ooh!  oooh! ooooh!\"\n",
        "x = re.findall(\"oo*h!\", txt)\n",
        "print(x)\n",
        "\n",
        "txt = \"oh! ooh!  oooh! ooooh!\"\n",
        "x = re.findall(\"o+h!\", txt)\n",
        "print(x)\n",
        "\n",
        "txt = \"begin begun begun beg3n\"\n",
        "x = re.findall(\"beg.n\", txt)\n",
        "print(x)"
      ],
      "metadata": {
        "colab": {
          "base_uri": "https://localhost:8080/"
        },
        "id": "jwsAo2dj7kLv",
        "outputId": "1b7015fa-e4be-4afa-b94f-714d6395ec98"
      },
      "execution_count": null,
      "outputs": [
        {
          "output_type": "stream",
          "name": "stdout",
          "text": [
            "['color', 'colour']\n",
            "['oh', 'ooh', 'oooh', 'ooooh']\n",
            "['oh!', 'ooh!', 'oooh!', 'ooooh!']\n",
            "['oh!', 'ooh!', 'oooh!', 'ooooh!']\n",
            "['begin', 'begun', 'begun', 'beg3n']\n"
          ]
        }
      ]
    },
    {
      "cell_type": "code",
      "source": [
        "# ? * + . {m} {m, n}\n",
        "txt = \"oh! ooh!  oooh! ooooh!\"\n",
        "x = re.findall(\"o{3}h!\", txt)\n",
        "print(x)\n",
        "\n",
        "txt = \"oh! ooh!  oooh! ooooh!\"\n",
        "x = re.findall(\"o{1,3}h!\", txt)\n",
        "print(x)\n",
        "\n",
        "txt = \"oh! oh!oh!  oh!oh!oh! ooooh!ooooh!\"\n",
        "x = re.findall(\"(oh!)+\", txt)\n",
        "print(x)"
      ],
      "metadata": {
        "colab": {
          "base_uri": "https://localhost:8080/"
        },
        "id": "j81LxuYv8ooG",
        "outputId": "ff7539f8-a251-4330-c9b6-8434035c07d6"
      },
      "execution_count": null,
      "outputs": [
        {
          "output_type": "stream",
          "name": "stdout",
          "text": [
            "['oooh!', 'oooh!']\n",
            "['oh!', 'ooh!', 'oooh!', 'oooh!']\n",
            "['oh!', 'oh!', 'oh!', 'oh!', 'oh!']\n"
          ]
        }
      ]
    },
    {
      "cell_type": "code",
      "source": [
        "# Special Sequence\n",
        "# \\d any decimal digit\n",
        "txt = \"1234567890123 837429rq899 1234567890123pqpe1234567890123\"\n",
        "x = re.findall(\"\\d{13}\", txt)\n",
        "print(x)\n",
        "\n",
        "# \\w any alphanumeric character\n",
        "txt = \"1234567890123_@ 837429rq899 1234567890123@_pqpe1234567890123\"\n",
        "x = re.findall(\"\\w+\", txt)\n",
        "print(x)\n",
        "\n",
        "txt = \"The rain in Spain\"\n",
        "x = re.findall(\"S\\w+\", txt)\n",
        "print(x)\n",
        "\n",
        "\n",
        "txt = \"The rain in Spain 12ai33 aim mai\"\n",
        "x = re.findall(\"\\w*ai.\", txt)\n",
        "print(x)\n",
        "\n",
        "# \\s any whitespace character (space, tab)\n",
        "# Replace the first two occurrences of a white-space character with \"_\":\n",
        "txt = \"The rain in Spain\"\n",
        "x = re.sub(\"\\s\", \"_\", txt, 2)\n",
        "print(x)"
      ],
      "metadata": {
        "colab": {
          "base_uri": "https://localhost:8080/"
        },
        "id": "Ovy674E5KWOI",
        "outputId": "54f55a52-76c2-4f1e-bb4e-39b646c544b1"
      },
      "execution_count": null,
      "outputs": [
        {
          "output_type": "stream",
          "name": "stdout",
          "text": [
            "['1234567890123', '1234567890123', '1234567890123']\n",
            "['1234567890123_', '837429rq899', '1234567890123', '_pqpe1234567890123']\n",
            "['Spain']\n",
            "['rain', 'Spain', '12ai3', 'aim']\n",
            "The_rain_in Spain\n"
          ]
        }
      ]
    },
    {
      "cell_type": "code",
      "source": [
        "# ^ Start string\n",
        "text = \"Hello, world! This is a test string.\"\n",
        "x = re.findall(\"^\\w+\", text)\n",
        "print(x)\n",
        "\n",
        "# $ End string\n",
        "text = \"Hello, world! This is a test string.\"\n",
        "x = re.findall(\"\\w+.$\", text)\n",
        "print(x)"
      ],
      "metadata": {
        "colab": {
          "base_uri": "https://localhost:8080/"
        },
        "id": "jV_XNXwMM9Gl",
        "outputId": "2e9f3e53-a19b-4bc9-f224-950bdb48c72b"
      },
      "execution_count": null,
      "outputs": [
        {
          "output_type": "stream",
          "name": "stdout",
          "text": [
            "['Hello']\n",
            "['string.']\n"
          ]
        }
      ]
    },
    {
      "cell_type": "markdown",
      "metadata": {
        "id": "veRML-M6L3Z-"
      },
      "source": [
        "# Match Functions"
      ]
    },
    {
      "cell_type": "markdown",
      "metadata": {
        "id": "W2miivKnIm74"
      },
      "source": [
        "**match**\treturns a match object if there is a match at *the begining* of the string"
      ]
    },
    {
      "cell_type": "code",
      "metadata": {
        "id": "gkweDMsBRgcy",
        "colab": {
          "base_uri": "https://localhost:8080/"
        },
        "outputId": "a3d9b7d8-aa38-4c28-d2af-196f98d77d9c"
      },
      "source": [
        "import re\n",
        "\n",
        "txt = \"babcccc\"\n",
        "x = re.search(\"(abc+)\", txt)\n",
        "print(x)\n",
        "\n",
        "\n",
        "txt = \"babcccc\"\n",
        "x = re.match(\"(abc+)\", txt)\n",
        "print(x)"
      ],
      "execution_count": null,
      "outputs": [
        {
          "output_type": "stream",
          "name": "stdout",
          "text": [
            "<re.Match object; span=(1, 7), match='abcccc'>\n",
            "None\n"
          ]
        }
      ]
    },
    {
      "cell_type": "markdown",
      "metadata": {
        "id": "iJ70Z-tWQQTz"
      },
      "source": [
        "The Match object has properties and methods used to retrieve information about the search, and the result:\n",
        "\n",
        "**.string** returns the string passed into the function\n",
        "\n",
        "**.span()** returns a tuple containing the start-, and end positions of the match.\n",
        "\n",
        "**.group()** returns the part of the string where there was a match"
      ]
    },
    {
      "cell_type": "code",
      "metadata": {
        "id": "M8PsHc-IJkJu",
        "colab": {
          "base_uri": "https://localhost:8080/"
        },
        "outputId": "1b938f6e-8beb-45e9-9e95-20cd40d5545c"
      },
      "source": [
        "import re\n",
        "#Search for an upper case \"S\" character in the beginning of a word\n",
        "#The string property returns the search string\n",
        "\n",
        "txt = \"The rain in Spain\"\n",
        "x = re.search(\"S\\w+\", txt)\n",
        "\n",
        "if x:\n",
        "  print(\"YES! We have the pattern!\")\n",
        "  print(x)\n",
        "\n",
        "  print(x.string)\n",
        "  print(x.span())\n",
        "\n",
        "  print(x.group())\n",
        "  print(x.start())\n",
        "  print(x.end())\n",
        "\n",
        "else:\n",
        "  print(\"Not found\")"
      ],
      "execution_count": null,
      "outputs": [
        {
          "output_type": "stream",
          "name": "stdout",
          "text": [
            "YES! We have the pattern!\n",
            "<re.Match object; span=(12, 17), match='Spain'>\n",
            "The rain in Spain\n",
            "(12, 17)\n",
            "Spain\n",
            "12\n",
            "17\n"
          ]
        }
      ]
    },
    {
      "cell_type": "code",
      "metadata": {
        "id": "EGnfP-M_dQz9",
        "colab": {
          "base_uri": "https://localhost:8080/"
        },
        "outputId": "94293aa5-25f5-4177-c74b-06c3671f03e4"
      },
      "source": [
        "import re\n",
        "\n",
        "#check valid email pattern\n",
        "pattern = '\\w+.*\\w+[@]\\w+\\.(com|net|th)'\n",
        "myemail = 'aurawani@ku.th'\n",
        "res = re.match(pattern, myemail)\n",
        "print(res)\n",
        "\n",
        "# ใช้ () เพื่อแยกส่วนของการ match\n",
        "pattern = '(\\w+.*\\w+)@(\\w+\\.(com|net|th))'\n",
        "myemail = 'aurawan.i@ku.th'\n",
        "res = re.match(pattern, myemail)\n",
        "print(res.group(1))\n",
        "print(res.group(2))\n",
        "print(res.group(3))\n",
        "\n",
        "# ใช้ ?P<GroupName> ตั้งชื่อกลุ่มเพื่อความสะดวกในการอ้างอิง\n",
        "pattern = '(?P<name>\\w+.*\\w+)@(?P<domain>\\w+\\.(com|net|th))'\n",
        "myemail = 'aurawan.i@ku.th'\n",
        "res = re.match(pattern, myemail)\n",
        "print(res.group('name'))\n",
        "print(res.group('domain'))"
      ],
      "execution_count": null,
      "outputs": [
        {
          "output_type": "stream",
          "name": "stdout",
          "text": [
            "<re.Match object; span=(0, 14), match='aurawani@ku.th'>\n",
            "aurawan.i\n",
            "ku.th\n",
            "th\n",
            "aurawan.i\n",
            "ku.th\n"
          ]
        }
      ]
    },
    {
      "cell_type": "markdown",
      "metadata": {
        "id": "NFzUeOt2o_4j"
      },
      "source": [
        "# More Regular Expressions\n",
        "\n",
        "หมายเหตุ\n",
        "\n",
        "1. \\b หมายถึง Word Boundary => คำที่ต้องการหาจะเป็นคำที่ไม่ติดกับตัวอักษรใด เช่น\n",
        "\n",
        "\\bThe => หน้าคำว่า “The” จะต้องไม่มีตัวอักษรใด\n",
        "\n",
        "\\bThe\\b => ว่าหน้าและหลังคำว่า “The” จะต้องไม่มีตัวอักษรใด ๆ\n",
        "\n",
        "\n",
        "\n",
        "\n",
        "2. \"r\" ที่อยู่ด้านหน้า string หมายถึง string นั้นเป็น raw string คือ escape characters จะไม่ถูกแยกวิเคราะห์ เช่น\n",
        "\n",
        "\\b ไม่ได้หมายถึง backslash และ b แต่จะหมายถึง Word Boundary"
      ]
    },
    {
      "cell_type": "code",
      "metadata": {
        "id": "ytjzeoVhcZ7R",
        "colab": {
          "base_uri": "https://localhost:8080/"
        },
        "outputId": "f2d804e6-85a7-4090-e029-412b9bb54517"
      },
      "source": [
        "import re\n",
        "\n",
        "txt = \"the bigger they were, the bigger they will be\"\n",
        "x = re.search(r'\\bthe (.*)er they were, the \\1er they will be\\b', txt)\n",
        "print(x)\n",
        "\n",
        "txt = \"the faster they ran, the faster we ran\"\n",
        "x = re.search(r'\\bthe (.*)er they (.*), the \\1er we \\2\\b', txt)\n",
        "print(x)\n",
        "\n",
        "txt = \"some cats like some cats\"\n",
        "x = re.search(r'\\b(?:some|a few) (people|cats) like some \\1\\b', txt)\n",
        "print(x)\n",
        "print()\n",
        "\n",
        "txt = \"He says, I'm depressed much of the time.\"\n",
        "x = re.sub(r\"\\b.* I'm (depressed|sad) .*\\b\", r\"\\bI AM SORRY TO HEAR YOU ARE \\1.\\b\", txt)\n",
        "print(x)"
      ],
      "execution_count": null,
      "outputs": [
        {
          "output_type": "stream",
          "name": "stdout",
          "text": [
            "<re.Match object; span=(0, 45), match='the bigger they were, the bigger they will be'>\n",
            "<re.Match object; span=(0, 38), match='the faster they ran, the faster we ran'>\n",
            "<re.Match object; span=(0, 24), match='some cats like some cats'>\n",
            "\n",
            "\bI AM SORRY TO HEAR YOU ARE depressed.\b.\n"
          ]
        }
      ]
    },
    {
      "cell_type": "code",
      "source": [
        "print(\"Hello! Welcome to smart chatbot.\")\n",
        "text = input(\"Can I help you?: \")\n",
        "intend = \"process\"\n",
        "\n",
        "while intend != \"bye\":\n",
        "  if re.match(r\"\\b(Do you have|I want) ([A-Za-z ]+)\\b\", text):\n",
        "    res = re.match(r\"\\b(Do you have|I want) ([A-Za-z ]+)\\b\", text)\n",
        "    product = res.group(2)\n",
        "    print(f\"We have some {product}. Price is 200 baht/piece. [A01, A02, A03]\")\n",
        "    text = input(\"Please type the product number that you want: \")\n",
        "  elif re.match(r\"\\bA(\\d+)\\b\", text):\n",
        "    res = re.match(r\"\\b(A\\d+)\\b\", text)\n",
        "    item = res.group(1)\n",
        "    print(f\"You select {product} number {item}\")\n",
        "    text = input(\"How many pieces do you want? \")\n",
        "  elif re.match(r\"\\b(\\d+)\\b\", text):\n",
        "    res = re.match(r\"\\b(\\d+)\\b\", text)\n",
        "    quantity = res.group(1)\n",
        "    print(f\"You select {product} number {item} {quantity} pieces\")\n",
        "    text = input(\"Do you want anymore?\")\n",
        "  elif re.match(r\"\\b[n|N]o|[t|T]hank [you]*([A-Za-z ]+)\\b\", text):\n",
        "    intend = \"bye\"\n",
        "  else:\n",
        "    print(\"Sorry! I don't understand. Please contact to admin\")\n",
        "    intend = \"bye\"\n",
        "\n",
        "print(\"Thank you. See you again next time.\")"
      ],
      "metadata": {
        "id": "ussCGK1meoYM",
        "colab": {
          "base_uri": "https://localhost:8080/"
        },
        "outputId": "55e4fc5a-95c7-4e6e-d8a4-74845edc237f"
      },
      "execution_count": 23,
      "outputs": [
        {
          "output_type": "stream",
          "name": "stdout",
          "text": [
            "Hello! Welcome to smart chatbot.\n",
            "Can I help you?: I want book\n",
            "We have some book. Price is 200 baht/piece. [A01, A02, A03]\n",
            "Please type the product number that you want: A01\n",
            "You select book number A01\n",
            "How many pieces do you want? 9\n",
            "You select book number A01 9 pieces\n",
            "Do you want anymore?b\n",
            "Sorry! I don't understand. Please contact to admin\n",
            "Thank you. See you again next time.\n"
          ]
        }
      ]
    },
    {
      "cell_type": "markdown",
      "source": [
        "1. จงเขียน regular expression ที่ match กับข้อความต่อไปนี้\n",
        "pit\n",
        "\n",
        "spot\n",
        "\n",
        "spate\n",
        "\n",
        "slap two\n",
        "\n",
        "respit\n",
        "\n",
        "แต่ไม่ match กับข้อความเหล่านี้\n",
        "pt\n",
        "\n",
        "Pot\n",
        "\n",
        "part\n",
        "\n",
        "respect\n",
        "\n",
        "populate"
      ],
      "metadata": {
        "id": "lduOZo7a55Fy"
      }
    },
    {
      "cell_type": "code",
      "source": [
        "## Your Code ##\n",
        "\n",
        "import re\n",
        "txt = \"spot spate slap two respit Pot part respect populate\"\n",
        "\n",
        "res = re.findall(\"[a-z]*p[aoi ]t[a-z]*\",txt)\n",
        "print(res)"
      ],
      "metadata": {
        "id": "OidCHHXmggQe",
        "colab": {
          "base_uri": "https://localhost:8080/"
        },
        "outputId": "c08461cf-130e-4437-c35b-5d2461c19e8f"
      },
      "execution_count": 22,
      "outputs": [
        {
          "output_type": "stream",
          "name": "stdout",
          "text": [
            "['spot', 'spate', 'slap two', 'respit']\n"
          ]
        }
      ]
    },
    {
      "cell_type": "markdown",
      "source": [
        "2. Implement an ELIZA-like program, using substitutions such as those described on slide 12-13."
      ],
      "metadata": {
        "id": "KXdlPNMEgjMx"
      }
    },
    {
      "cell_type": "code",
      "source": [
        "## Your Code ##\n",
        "# AT THE BOOK STORE\n",
        "print(\"Welcome to Sirisuk's Book Store !!!\")\n",
        "txt = input(\"How can I help you? : \")\n",
        "intend = \"process\"\n",
        "\n",
        "while(intend != \"bye\"):\n",
        "  if re.match(r\"\\b([Im]'m looking for|Do you have) ([A-Za-z]+)\\b\",txt):\n",
        "    res = re.match(r\"\\b([Im]'m looking for|Do you have) ([A-Za-z]+)\\b\",txt)\n",
        "    print(f\"Sure!, we have {res.group(2)},Price is 999 Baht\")\n",
        "    txt = input(\"What amount do you want? [0-100]: \")\n",
        "  elif re.match(r\"\\b(\\d+)\\b\",txt):\n",
        "    res = re.match(r\"\\b(\\d+)\\b\",txt)\n",
        "    print(f\"Okay, we got it! your amount is {res.group(1)} total [{int(res.group(1))*999} Baht].\")\n",
        "    txt = input(\"Do you want anything more? : \")\n",
        "  elif re.match(r\"\\b[Yy]es\\b\",txt):\n",
        "    txt = input(\"What would you like? : \")\n",
        "  elif re.match(r\"\\b[N|n]o|[T|t]hanks|[T|t]hank [you]*([A-Za-z ]+)\\b\", txt):\n",
        "    intend = \"bye\"\n",
        "  else:\n",
        "    print(\"Sorry! I don't understand. Please contact to the shop owner!!!\")\n",
        "    intend = \"bye\"\n",
        "\n",
        "print(\"Thanks for visiting our shop, see you.\")"
      ],
      "metadata": {
        "id": "xutvyh6Eg0e3",
        "colab": {
          "base_uri": "https://localhost:8080/"
        },
        "outputId": "436b8f4e-732d-4eff-bbf2-35288aa81a6e"
      },
      "execution_count": 31,
      "outputs": [
        {
          "output_type": "stream",
          "name": "stdout",
          "text": [
            "Welcome to Sirisuk's Book Store !!!\n",
            "How can I help you? : I'm looking for Calculus\n",
            "Sure!, we have Calculus,Price is 999 Baht\n",
            "What amount do you want? [0-100]: 88\n",
            "Okay, we got it! your amount is 88 total [87912 Baht].\n",
            "Do you want anything more? : yes\n",
            "What would you like? : Biology\n",
            "Sorry! I don't understand. Please contact to the shop owner!!!\n",
            "Thanks for visiting our shop, see you.\n"
          ]
        }
      ]
    },
    {
      "cell_type": "markdown",
      "source": [
        "6610402230 ศิริสุข ทานธรรม\n",
        "\n",
        "6610402230 SIRISUK THARNTHAM"
      ],
      "metadata": {
        "id": "9vxwDJEm9Cwi"
      }
    },
    {
      "cell_type": "code",
      "source": [],
      "metadata": {
        "id": "wbsiTiWrIBSv"
      },
      "execution_count": null,
      "outputs": []
    }
  ]
}